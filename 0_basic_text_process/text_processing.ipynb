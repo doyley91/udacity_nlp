{
 "cells": [
  {
   "cell_type": "markdown",
   "metadata": {},
   "source": [
    "# Text Processing\n",
    "\n",
    "## Capturing Text Data\n",
    "\n",
    "### Plain Text"
   ]
  },
  {
   "cell_type": "code",
   "execution_count": 1,
   "metadata": {},
   "outputs": [
    {
     "name": "stdout",
     "output_type": "stream",
     "text": [
      "Hieroglyphic writing dates from c. 3000 BC, and is composed of hundreds of symbols. A hieroglyph can represent a word, a sound, or a silent determinative; and the same symbol can serve different purposes in different contexts. Hieroglyphs were a formal script, used on stone monuments and in tombs, that could be as detailed as individual works of art.\n",
      "\n"
     ]
    }
   ],
   "source": [
    "import os\n",
    "\n",
    "# Read in a plain text file\n",
    "with open(os.path.join(\"data\", \"hieroglyph.txt\"), \"r\") as f:\n",
    "    text = f.read()\n",
    "    print(text)"
   ]
  },
  {
   "cell_type": "markdown",
   "metadata": {},
   "source": [
    "### Tabular Data"
   ]
  },
  {
   "cell_type": "code",
   "execution_count": 2,
   "metadata": {
    "scrolled": true
   },
   "outputs": [
    {
     "data": {
      "text/html": [
       "<div>\n",
       "<style>\n",
       "    .dataframe thead tr:only-child th {\n",
       "        text-align: right;\n",
       "    }\n",
       "\n",
       "    .dataframe thead th {\n",
       "        text-align: left;\n",
       "    }\n",
       "\n",
       "    .dataframe tbody tr th {\n",
       "        vertical-align: top;\n",
       "    }\n",
       "</style>\n",
       "<table border=\"1\" class=\"dataframe\">\n",
       "  <thead>\n",
       "    <tr style=\"text-align: right;\">\n",
       "      <th></th>\n",
       "      <th>publisher</th>\n",
       "      <th>title</th>\n",
       "    </tr>\n",
       "  </thead>\n",
       "  <tbody>\n",
       "    <tr>\n",
       "      <th>0</th>\n",
       "      <td>Livemint</td>\n",
       "      <td>fed's charles plosser sees high bar for change...</td>\n",
       "    </tr>\n",
       "    <tr>\n",
       "      <th>1</th>\n",
       "      <td>IFA Magazine</td>\n",
       "      <td>us open: stocks fall after fed official hints ...</td>\n",
       "    </tr>\n",
       "    <tr>\n",
       "      <th>2</th>\n",
       "      <td>IFA Magazine</td>\n",
       "      <td>fed risks falling 'behind the curve', charles ...</td>\n",
       "    </tr>\n",
       "    <tr>\n",
       "      <th>3</th>\n",
       "      <td>Moneynews</td>\n",
       "      <td>fed's plosser: nasty weather has curbed job gr...</td>\n",
       "    </tr>\n",
       "    <tr>\n",
       "      <th>4</th>\n",
       "      <td>NASDAQ</td>\n",
       "      <td>plosser: fed may have to accelerate tapering pace</td>\n",
       "    </tr>\n",
       "  </tbody>\n",
       "</table>\n",
       "</div>"
      ],
      "text/plain": [
       "      publisher                                              title\n",
       "0      Livemint  fed's charles plosser sees high bar for change...\n",
       "1  IFA Magazine  us open: stocks fall after fed official hints ...\n",
       "2  IFA Magazine  fed risks falling 'behind the curve', charles ...\n",
       "3     Moneynews  fed's plosser: nasty weather has curbed job gr...\n",
       "4        NASDAQ  plosser: fed may have to accelerate tapering pace"
      ]
     },
     "execution_count": 2,
     "metadata": {},
     "output_type": "execute_result"
    }
   ],
   "source": [
    "import pandas as pd\n",
    "\n",
    "# Extract text column from a dataframe\n",
    "df = pd.read_csv(os.path.join(\"data\", \"news.csv\"))\n",
    "df.head()[['publisher', 'title']]\n",
    "\n",
    "# Convert text column to lowercase\n",
    "df['title'] = df['title'].str.lower()\n",
    "df.head()[['publisher', 'title']]"
   ]
  },
  {
   "cell_type": "markdown",
   "metadata": {},
   "source": [
    "### Online Resource"
   ]
  },
  {
   "cell_type": "code",
   "execution_count": 3,
   "metadata": {
    "scrolled": false
   },
   "outputs": [
    {
     "name": "stdout",
     "output_type": "stream",
     "text": [
      "{\n",
      "    \"success\": {\n",
      "        \"total\": 1\n",
      "    },\n",
      "    \"contents\": {\n",
      "        \"quotes\": [\n",
      "            {\n",
      "                \"id\": null,\n",
      "                \"author\": \"Michel de Montaigne\",\n",
      "                \"length\": \"66\",\n",
      "                \"category\": \"inspire\",\n",
      "                \"quote\": \"Things are not bad in themselves, but our cowardice makes them so.\",\n",
      "                \"title\": \"Inspiring Quote of the day\",\n",
      "                \"tags\": [\n",
      "                    \"cowardice\",\n",
      "                    \"inspire\",\n",
      "                    \"leadership\",\n",
      "                    \"tso-life\"\n",
      "                ],\n",
      "                \"date\": \"2018-05-14\"\n",
      "            }\n",
      "        ],\n",
      "        \"copyright\": \"2017-19 theysaidso.com\"\n",
      "    }\n",
      "}\n",
      "Things are not bad in themselves, but our cowardice makes them so. \n",
      "-- Michel de Montaigne\n"
     ]
    }
   ],
   "source": [
    "import requests\n",
    "import json\n",
    "\n",
    "# Fetch data from a REST API\n",
    "r = requests.get(\n",
    "    \"https://quotes.rest/qod.json\")\n",
    "res = r.json()\n",
    "print(json.dumps(res, indent=4))\n",
    "\n",
    "# Extract relevant object and field\n",
    "q = res[\"contents\"][\"quotes\"][0]\n",
    "print(q[\"quote\"], \"\\n--\", q[\"author\"])"
   ]
  },
  {
   "cell_type": "markdown",
   "metadata": {},
   "source": [
    "## Cleaning"
   ]
  },
  {
   "cell_type": "code",
   "execution_count": 64,
   "metadata": {},
   "outputs": [
    {
     "name": "stdout",
     "output_type": "stream",
     "text": [
      "200\n",
      "<html op=\"news\"><head><meta name=\"referrer\" content=\"origin\"><meta name=\"viewport\" content=\"width=device-width, initial-scale=1.0\"><link rel=\"stylesheet\" type=\"text/css\" href=\"news.css?fV109NWmWCCmjDJ8DNau\">\n",
      "            <link rel=\"shortcut icon\" href=\"favicon.ico\">\n",
      "          <link rel=\"alternate\" type=\"application/rss+xml\" title=\"RSS\" href=\"rss\">\n",
      "        <title>Hacker News</title></head><body><center><table id=\"hnmain\" border=\"0\" cellpadding=\"0\" cellspacing=\"0\" width=\"85%\" bgcolor=\"#f6f6ef\">\n",
      "        <tr><td bgcolor=\"#ff6600\"><table border=\"0\" cellpadding=\"0\" cellspacing=\"0\" width=\"100%\" style=\"padding:2px\"><tr><td style=\"width:18px;padding-right:4px\"><a href=\"https://news.ycombinator.com\"><img src=\"y18.gif\" width=\"18\" height=\"18\" style=\"border:1px white solid;\"></a></td>\n",
      "                  <td style=\"line-height:12pt; height:10px;\"><span class=\"pagetop\"><b class=\"hnname\"><a href=\"news\">Hacker News</a></b>\n",
      "              <a href=\"newest\">new</a> | <a href=\"newcomments\">comments</a> | <a href=\"show\">show</a> | <a href=\"ask\">ask</a> | <a href=\"jobs\">jobs</a> | <a href=\"submit\">submit</a>            </span></td><td style=\"text-align:right;padding-right:4px;\"><span class=\"pagetop\">\n",
      "                              <a href=\"login?goto=news\">login</a>\n",
      "                          </span></td>\n",
      "              </tr></table></td></tr>\n",
      "<tr style=\"height:10px\"></tr><tr><td><table border=\"0\" cellpadding=\"0\" cellspacing=\"0\" class=\"itemlist\">\n",
      "              <tr class='athing' id='17061713'>\n",
      "      <td align=\"right\" valign=\"top\" class=\"title\"><span class=\"rank\">1.</span></td>      <td valign=\"top\" class=\"votelinks\"><center><a id='up_17061713' href='vote?id=17061713&amp;how=up&amp;goto=news'><div class='votearrow' title='upvote'></div></a></center></td><td class=\"title\"><a href=\"https://boyter.org/posts/how-to-start-go-project-2018/\" class=\"storylink\">How to start a Go project in 2018</a><span class=\"sitebit comhead\"> (<a href=\"from?site=boyter.org\"><span class=\"sitestr\">boyter.org</span></a>)</span></td></tr><tr><td colspan=\"2\"></td><td class=\"subtext\">\n",
      "        <span class=\"score\" id=\"score_17061713\">68 points</span> by <a href=\"user?id=boyter\" class=\"hnuser\">boyter</a> <span class=\"age\"><a href=\"item?id=17061713\">2 hours ago</a></span> <span id=\"unv_17061713\"></span> | <a href=\"hide?id=17061713&amp;goto=news\">hide</a> | <a href=\"item?id=17061713\">18&nbsp;comments</a>              </td></tr>\n",
      "      <tr class=\"spacer\" style=\"height:5px\"></tr>\n",
      "                <tr class='athing' id='17061174'>\n",
      "      <td align=\"right\" valign=\"top\" class=\"title\"><span class=\"rank\">2.</span></td>      <td valign=\"top\" class=\"votelinks\"><center><a id='up_17061174' href='vote?id=17061174&amp;how=up&amp;goto=news'><div class='votearrow' title='upvote'></div></a></center></td><td class=\"title\"><a href=\"https://www.tecmint.com/progress-monitor-check-progress-of-linux-commands/\" class=\"storylink\">Progress – A Tool to Monitor Progress for Commands in Linux (2016)</a><span class=\"sitebit comhead\"> (<a href=\"from?site=tecmint.com\"><span class=\"sitestr\">tecmint.com</span></a>)</span></td></tr><tr><td colspan=\"2\"></td><td class=\"subtext\">\n",
      "        <span class=\"score\" id=\"score_17061174\">107 points</span> by <a href=\"user?id=mpweiher\" class=\"hnuser\">mpweiher</a> <span class=\"age\"><a href=\"item?id=17061174\">5 hours ago</a></span> <span id=\"unv_17061174\"></span> | <a href=\"hide?id=17061174&amp;goto=news\">hide</a> | <a href=\"item?id=17061174\">13&nbsp;comments</a>              </td></tr>\n",
      "      <tr class=\"spacer\" style=\"height:5px\"></tr>\n",
      "                <tr class='athing' id='17061181'>\n",
      "      <td align=\"right\" valign=\"top\" class=\"title\"><span class=\"rank\">3.</span></td>      <td valign=\"top\" class=\"votelinks\"><center><a id='up_17061181' href='vote?id=17061181&amp;how=up&amp;goto=news'><div class='votearrow' title='upvote'></div></a></center></td><td class=\"title\"><a href=\"http://www.bitsavers.org/\" class=\"storylink\">Bitsavers</a><span class=\"sitebit comhead\"> (<a href=\"from?site=bitsavers.org\"><span class=\"sitestr\">bitsavers.org</span></a>)</span></td></tr><tr><td colspan=\"2\"></td><td class=\"subtext\">\n",
      "        <span class=\"score\" id=\"score_17061181\">78 points</span> by <a href=\"user?id=tosh\" class=\"hnuser\">tosh</a> <span class=\"age\"><a href=\"item?id=17061181\">5 hours ago</a></span> <span id=\"unv_17061181\"></span> | <a href=\"hide?id=17061181&amp;goto=news\">hide</a> | <a href=\"item?id=17061181\">9&nbsp;comments</a>              </td></tr>\n",
      "      <tr class=\"spacer\" style=\"height:5px\"></tr>\n",
      "                <tr class='athing' id='17061850'>\n",
      "      <td align=\"right\" valign=\"top\" class=\"title\"><span class=\"rank\">4.</span></td>      <td valign=\"top\" class=\"votelinks\"><center><a id='up_17061850' href='vote?id=17061850&amp;how=up&amp;goto=news'><div class='votearrow' title='upvote'></div></a></center></td><td class=\"title\"><a href=\"http://www.openculture.com/2018/05/j-r-r-tolkien-expressed-a-heartfelt-loathing-for-walt-disney.html\" class=\"storylink\">Tolkien Expressed a “Heartfelt Loathing” for Walt Disney</a><span class=\"sitebit comhead\"> (<a href=\"from?site=openculture.com\"><span class=\"sitestr\">openculture.com</span></a>)</span></td></tr><tr><td colspan=\"2\"></td><td class=\"subtext\">\n",
      "        <span class=\"score\" id=\"score_17061850\">65 points</span> by <a href=\"user?id=jedwhite\" class=\"hnuser\">jedwhite</a> <span class=\"age\"><a href=\"item?id=17061850\">2 hours ago</a></span> <span id=\"unv_17061850\"></span> | <a href=\"hide?id=17061850&amp;goto=news\">hide</a> | <a href=\"item?id=17061850\">34&nbsp;comments</a>              </td></tr>\n",
      "      <tr class=\"spacer\" style=\"height:5px\"></tr>\n",
      "                <tr class='athing' id='17061019'>\n",
      "      <td align=\"right\" valign=\"top\" class=\"title\"><span class=\"rank\">5.</span></td>      <td valign=\"top\" class=\"votelinks\"><center><a id='up_17061019' href='vote?id=17061019&amp;how=up&amp;goto=news'><div class='votearrow' title='upvote'></div></a></center></td><td class=\"title\"><a href=\"https://kickstarter.engineering/event-sourcing-made-simple-4a2625113224\" class=\"storylink\">Event Sourcing made Simple</a><span class=\"sitebit comhead\"> (<a href=\"from?site=kickstarter.engineering\"><span class=\"sitestr\">kickstarter.engineering</span></a>)</span></td></tr><tr><td colspan=\"2\"></td><td class=\"subtext\">\n",
      "        <span class=\"score\" id=\"score_17061019\">80 points</span> by <a href=\"user?id=based2\" class=\"hnuser\">based2</a> <span class=\"age\"><a href=\"item?id=17061019\">5 hours ago</a></span> <span id=\"unv_17061019\"></span> | <a href=\"hide?id=17061019&amp;goto=news\">hide</a> | <a href=\"item?id=17061019\">19&nbsp;comments</a>              </td></tr>\n",
      "      <tr class=\"spacer\" style=\"height:5px\"></tr>\n",
      "                <tr class='athing' id='17060540'>\n",
      "      <td align=\"right\" valign=\"top\" class=\"title\"><span class=\"rank\">6.</span></td>      <td valign=\"top\" class=\"votelinks\"><center><a id='up_17060540' href='vote?id=17060540&amp;how=up&amp;goto=news'><div class='votearrow' title='upvote'></div></a></center></td><td class=\"title\"><a href=\"https://www.journalism.co.uk/news/tool-for-journalists-interviewjs-for-turning-interviews-into-interactive-chats/s2/a721546/\" class=\"storylink\">Al Jazeera open-sources InterviewJS, turns interviews into interactive chats</a><span class=\"sitebit comhead\"> (<a href=\"from?site=journalism.co.uk\"><span class=\"sitestr\">journalism.co.uk</span></a>)</span></td></tr><tr><td colspan=\"2\"></td><td class=\"subtext\">\n",
      "        <span class=\"score\" id=\"score_17060540\">90 points</span> by <a href=\"user?id=mark-ruwt\" class=\"hnuser\">mark-ruwt</a> <span class=\"age\"><a href=\"item?id=17060540\">7 hours ago</a></span> <span id=\"unv_17060540\"></span> | <a href=\"hide?id=17060540&amp;goto=news\">hide</a> | <a href=\"item?id=17060540\">17&nbsp;comments</a>              </td></tr>\n",
      "      <tr class=\"spacer\" style=\"height:5px\"></tr>\n",
      "                <tr class='athing' id='17060437'>\n",
      "      <td align=\"right\" valign=\"top\" class=\"title\"><span class=\"rank\">7.</span></td>      <td valign=\"top\" class=\"votelinks\"><center><a id='up_17060437' href='vote?id=17060437&amp;how=up&amp;goto=news'><div class='votearrow' title='upvote'></div></a></center></td><td class=\"title\"><a href=\"https://ripe76.ripe.net/presentations/9-2018-05-17-ipv6-reasons.pdf\" class=\"storylink\">Is IPv6 only for the Rich? [pdf]</a><span class=\"sitebit comhead\"> (<a href=\"from?site=ripe.net\"><span class=\"sitestr\">ripe.net</span></a>)</span></td></tr><tr><td colspan=\"2\"></td><td class=\"subtext\">\n",
      "        <span class=\"score\" id=\"score_17060437\">86 points</span> by <a href=\"user?id=okket\" class=\"hnuser\">okket</a> <span class=\"age\"><a href=\"item?id=17060437\">7 hours ago</a></span> <span id=\"unv_17060437\"></span> | <a href=\"hide?id=17060437&amp;goto=news\">hide</a> | <a href=\"item?id=17060437\">40&nbsp;comments</a>              </td></tr>\n",
      "      <tr class=\"spacer\" style=\"height:5px\"></tr>\n",
      "                <tr class='athing' id='17060085'>\n",
      "      <td align=\"right\" valign=\"top\" class=\"title\"><span class=\"rank\">8.</span></td>      <td valign=\"top\" class=\"votelinks\"><center><a id='up_17060085' href='vote?id=17060085&amp;how=up&amp;goto=news'><div class='votearrow' title='upvote'></div></a></center></td><td class=\"title\"><a href=\"http://blogs.harvard.edu/doc/2018/05/12/gdpr/\" class=\"storylink\">GDPR will pop the adtech bubble</a><span class=\"sitebit comhead\"> (<a href=\"from?site=harvard.edu\"><span class=\"sitestr\">harvard.edu</span></a>)</span></td></tr><tr><td colspan=\"2\"></td><td class=\"subtext\">\n",
      "        <span class=\"score\" id=\"score_17060085\">444 points</span> by <a href=\"user?id=mpweiher\" class=\"hnuser\">mpweiher</a> <span class=\"age\"><a href=\"item?id=17060085\">8 hours ago</a></span> <span id=\"unv_17060085\"></span> | <a href=\"hide?id=17060085&amp;goto=news\">hide</a> | <a href=\"item?id=17060085\">311&nbsp;comments</a>              </td></tr>\n",
      "      <tr class=\"spacer\" style=\"height:5px\"></tr>\n",
      "                <tr class='athing' id='17061133'>\n",
      "      <td align=\"right\" valign=\"top\" class=\"title\"><span class=\"rank\">9.</span></td>      <td valign=\"top\" class=\"votelinks\"><center><a id='up_17061133' href='vote?id=17061133&amp;how=up&amp;goto=news'><div class='votearrow' title='upvote'></div></a></center></td><td class=\"title\"><a href=\"https://mattcbaker.com/post/developing-https-node-local/\" class=\"storylink\">Developing HTTPS Services in Node with Self-Signed Certificates</a><span class=\"sitebit comhead\"> (<a href=\"from?site=mattcbaker.com\"><span class=\"sitestr\">mattcbaker.com</span></a>)</span></td></tr><tr><td colspan=\"2\"></td><td class=\"subtext\">\n",
      "        <span class=\"score\" id=\"score_17061133\">29 points</span> by <a href=\"user?id=mattcbaker\" class=\"hnuser\">mattcbaker</a> <span class=\"age\"><a href=\"item?id=17061133\">5 hours ago</a></span> <span id=\"unv_17061133\"></span> | <a href=\"hide?id=17061133&amp;goto=news\">hide</a> | <a href=\"item?id=17061133\">3&nbsp;comments</a>              </td></tr>\n",
      "      <tr class=\"spacer\" style=\"height:5px\"></tr>\n",
      "                <tr class='athing' id='17061281'>\n",
      "      <td align=\"right\" valign=\"top\" class=\"title\"><span class=\"rank\">10.</span></td>      <td valign=\"top\" class=\"votelinks\"><center><a id='up_17061281' href='vote?id=17061281&amp;how=up&amp;goto=news'><div class='votearrow' title='upvote'></div></a></center></td><td class=\"title\"><a href=\"item?id=17061281\" class=\"storylink\">Ask HN: How is DDoS protection implemented?</a></td></tr><tr><td colspan=\"2\"></td><td class=\"subtext\">\n",
      "        <span class=\"score\" id=\"score_17061281\">93 points</span> by <a href=\"user?id=elephant0xffff\" class=\"hnuser\">elephant0xffff</a> <span class=\"age\"><a href=\"item?id=17061281\">4 hours ago</a></span> <span id=\"unv_17061281\"></span> | <a href=\"hide?id=17061281&amp;goto=news\">hide</a> | <a href=\"item?id=17061281\">25&nbsp;comments</a>              </td></tr>\n",
      "      <tr class=\"spacer\" style=\"height:5px\"></tr>\n",
      "                <tr class='athing' id='17059858'>\n",
      "      <td align=\"right\" valign=\"top\" class=\"title\"><span class=\"rank\">11.</span></td>      <td valign=\"top\" class=\"votelinks\"><center><a id='up_17059858' href='vote?id=17059858&amp;how=up&amp;goto=news'><div class='votearrow' title='upvote'></div></a></center></td><td class=\"title\"><a href=\"https://blog.sia.tech/the-state-of-cryptocurrency-mining-538004a37f9b\" class=\"storylink\">The State of Cryptocurrency Mining</a><span class=\"sitebit comhead\"> (<a href=\"from?site=sia.tech\"><span class=\"sitestr\">sia.tech</span></a>)</span></td></tr><tr><td colspan=\"2\"></td><td class=\"subtext\">\n",
      "        <span class=\"score\" id=\"score_17059858\">102 points</span> by <a href=\"user?id=dsr12\" class=\"hnuser\">dsr12</a> <span class=\"age\"><a href=\"item?id=17059858\">9 hours ago</a></span> <span id=\"unv_17059858\"></span> | <a href=\"hide?id=17059858&amp;goto=news\">hide</a> | <a href=\"item?id=17059858\">13&nbsp;comments</a>              </td></tr>\n",
      "      <tr class=\"spacer\" style=\"height:5px\"></tr>\n",
      "                <tr class='athing' id='17061085'>\n",
      "      <td align=\"right\" valign=\"top\" class=\"title\"><span class=\"rank\">12.</span></td>      <td valign=\"top\" class=\"votelinks\"><center><a id='up_17061085' href='vote?id=17061085&amp;how=up&amp;goto=news'><div class='votearrow' title='upvote'></div></a></center></td><td class=\"title\"><a href=\"https://www.bloomberg.com/view/articles/2018-05-11/to-lower-drug-prices-trump-should-boost-generics\" class=\"storylink\">Look in the Mirror America, to See a Reason Drug Prices Are So High</a><span class=\"sitebit comhead\"> (<a href=\"from?site=bloomberg.com\"><span class=\"sitestr\">bloomberg.com</span></a>)</span></td></tr><tr><td colspan=\"2\"></td><td class=\"subtext\">\n",
      "        <span class=\"score\" id=\"score_17061085\">36 points</span> by <a href=\"user?id=toomuchtodo\" class=\"hnuser\">toomuchtodo</a> <span class=\"age\"><a href=\"item?id=17061085\">5 hours ago</a></span> <span id=\"unv_17061085\"></span> | <a href=\"hide?id=17061085&amp;goto=news\">hide</a> | <a href=\"item?id=17061085\">34&nbsp;comments</a>              </td></tr>\n",
      "      <tr class=\"spacer\" style=\"height:5px\"></tr>\n",
      "                <tr class='athing' id='17059237'>\n",
      "      <td align=\"right\" valign=\"top\" class=\"title\"><span class=\"rank\">13.</span></td>      <td valign=\"top\" class=\"votelinks\"><center><a id='up_17059237' href='vote?id=17059237&amp;how=up&amp;goto=news'><div class='votearrow' title='upvote'></div></a></center></td><td class=\"title\"><a href=\"https://www.nytimes.com/2018/05/12/style/who-are-my-real-friends.html\" class=\"storylink\">Are My Friends Really My Friends?</a><span class=\"sitebit comhead\"> (<a href=\"from?site=nytimes.com\"><span class=\"sitestr\">nytimes.com</span></a>)</span></td></tr><tr><td colspan=\"2\"></td><td class=\"subtext\">\n",
      "        <span class=\"score\" id=\"score_17059237\">146 points</span> by <a href=\"user?id=dsr12\" class=\"hnuser\">dsr12</a> <span class=\"age\"><a href=\"item?id=17059237\">11 hours ago</a></span> <span id=\"unv_17059237\"></span> | <a href=\"hide?id=17059237&amp;goto=news\">hide</a> | <a href=\"item?id=17059237\">43&nbsp;comments</a>              </td></tr>\n",
      "      <tr class=\"spacer\" style=\"height:5px\"></tr>\n",
      "                <tr class='athing' id='17058884'>\n",
      "      <td align=\"right\" valign=\"top\" class=\"title\"><span class=\"rank\">14.</span></td>      <td valign=\"top\" class=\"votelinks\"><center><a id='up_17058884' href='vote?id=17058884&amp;how=up&amp;goto=news'><div class='votearrow' title='upvote'></div></a></center></td><td class=\"title\"><a href=\"https://noteplan.co/\" class=\"storylink\">Noteplan – Markdown Calendar, Todos, and Notes</a><span class=\"sitebit comhead\"> (<a href=\"from?site=noteplan.co\"><span class=\"sitestr\">noteplan.co</span></a>)</span></td></tr><tr><td colspan=\"2\"></td><td class=\"subtext\">\n",
      "        <span class=\"score\" id=\"score_17058884\">150 points</span> by <a href=\"user?id=jbverschoor\" class=\"hnuser\">jbverschoor</a> <span class=\"age\"><a href=\"item?id=17058884\">12 hours ago</a></span> <span id=\"unv_17058884\"></span> | <a href=\"hide?id=17058884&amp;goto=news\">hide</a> | <a href=\"item?id=17058884\">75&nbsp;comments</a>              </td></tr>\n",
      "      <tr class=\"spacer\" style=\"height:5px\"></tr>\n",
      "                <tr class='athing' id='17059077'>\n",
      "      <td align=\"right\" valign=\"top\" class=\"title\"><span class=\"rank\">15.</span></td>      <td valign=\"top\" class=\"votelinks\"><center><a id='up_17059077' href='vote?id=17059077&amp;how=up&amp;goto=news'><div class='votearrow' title='upvote'></div></a></center></td><td class=\"title\"><a href=\"http://wiki.tcl.tk/6276\" class=\"storylink\">Extending Tcl</a><span class=\"sitebit comhead\"> (<a href=\"from?site=tcl.tk\"><span class=\"sitestr\">tcl.tk</span></a>)</span></td></tr><tr><td colspan=\"2\"></td><td class=\"subtext\">\n",
      "        <span class=\"score\" id=\"score_17059077\">110 points</span> by <a href=\"user?id=blacksqr\" class=\"hnuser\">blacksqr</a> <span class=\"age\"><a href=\"item?id=17059077\">12 hours ago</a></span> <span id=\"unv_17059077\"></span> | <a href=\"hide?id=17059077&amp;goto=news\">hide</a> | <a href=\"item?id=17059077\">41&nbsp;comments</a>              </td></tr>\n",
      "      <tr class=\"spacer\" style=\"height:5px\"></tr>\n",
      "                <tr class='athing' id='17061855'>\n",
      "      <td align=\"right\" valign=\"top\" class=\"title\"><span class=\"rank\">16.</span></td>      <td valign=\"top\" class=\"votelinks\"><center><a id='up_17061855' href='vote?id=17061855&amp;how=up&amp;goto=news'><div class='votearrow' title='upvote'></div></a></center></td><td class=\"title\"><a href=\"http://microsoftchat.blogspot.com/2018/01/successful-installation-of-microsoft.html\" class=\"storylink\" rel=\"nofollow\">Successful Installation of Microsoft Chat on Ubuntu Linux via Wine 3.0</a><span class=\"sitebit comhead\"> (<a href=\"from?site=microsoftchat.blogspot.com\"><span class=\"sitestr\">microsoftchat.blogspot.com</span></a>)</span></td></tr><tr><td colspan=\"2\"></td><td class=\"subtext\">\n",
      "        <span class=\"score\" id=\"score_17061855\">4 points</span> by <a href=\"user?id=bane\" class=\"hnuser\">bane</a> <span class=\"age\"><a href=\"item?id=17061855\">2 hours ago</a></span> <span id=\"unv_17061855\"></span> | <a href=\"hide?id=17061855&amp;goto=news\">hide</a> | <a href=\"item?id=17061855\">3&nbsp;comments</a>              </td></tr>\n",
      "      <tr class=\"spacer\" style=\"height:5px\"></tr>\n",
      "                <tr class='athing' id='17060272'>\n",
      "      <td align=\"right\" valign=\"top\" class=\"title\"><span class=\"rank\">17.</span></td>      <td valign=\"top\" class=\"votelinks\"><center><a id='up_17060272' href='vote?id=17060272&amp;how=up&amp;goto=news'><div class='votearrow' title='upvote'></div></a></center></td><td class=\"title\"><a href=\"https://peerdium.com/60f4108c22bf6d6a9023e94f9dac86bae829804c5b3hs3r5caya6se\" class=\"storylink\">Show HN: I built a peer to peer publishing platform</a><span class=\"sitebit comhead\"> (<a href=\"from?site=peerdium.com\"><span class=\"sitestr\">peerdium.com</span></a>)</span></td></tr><tr><td colspan=\"2\"></td><td class=\"subtext\">\n",
      "        <span class=\"score\" id=\"score_17060272\">34 points</span> by <a href=\"user?id=vishnu_ks\" class=\"hnuser\">vishnu_ks</a> <span class=\"age\"><a href=\"item?id=17060272\">7 hours ago</a></span> <span id=\"unv_17060272\"></span> | <a href=\"hide?id=17060272&amp;goto=news\">hide</a> | <a href=\"item?id=17060272\">5&nbsp;comments</a>              </td></tr>\n",
      "      <tr class=\"spacer\" style=\"height:5px\"></tr>\n",
      "                <tr class='athing' id='17062032'>\n",
      "      <td align=\"right\" valign=\"top\" class=\"title\"><span class=\"rank\">18.</span></td>      <td valign=\"top\" class=\"votelinks\"><center><a id='up_17062032' href='vote?id=17062032&amp;how=up&amp;goto=news'><div class='votearrow' title='upvote'></div></a></center></td><td class=\"title\"><a href=\"https://www.youtube.com/watch?v=Gk-9Fd2mEnI\" class=\"storylink\">Steve Jobs Gives a Wide-Ranging Talk at MIT Sloan School of Management(1992)</a><span class=\"sitebit comhead\"> (<a href=\"from?site=youtube.com\"><span class=\"sitestr\">youtube.com</span></a>)</span></td></tr><tr><td colspan=\"2\"></td><td class=\"subtext\">\n",
      "        <span class=\"score\" id=\"score_17062032\">9 points</span> by <a href=\"user?id=LiweiZ\" class=\"hnuser\">LiweiZ</a> <span class=\"age\"><a href=\"item?id=17062032\">1 hour ago</a></span> <span id=\"unv_17062032\"></span> | <a href=\"hide?id=17062032&amp;goto=news\">hide</a> | <a href=\"item?id=17062032\">discuss</a>              </td></tr>\n",
      "      <tr class=\"spacer\" style=\"height:5px\"></tr>\n",
      "                <tr class='athing' id='17061026'>\n",
      "      <td align=\"right\" valign=\"top\" class=\"title\"><span class=\"rank\">19.</span></td>      <td valign=\"top\" class=\"votelinks\"><center><a id='up_17061026' href='vote?id=17061026&amp;how=up&amp;goto=news'><div class='votearrow' title='upvote'></div></a></center></td><td class=\"title\"><a href=\"https://zeroturnaround.com/rebellabs/java-10-and-beyond-a-look-at-the-potential-language-change/\" class=\"storylink\">Java 10 and beyond – a look at the potential language change</a><span class=\"sitebit comhead\"> (<a href=\"from?site=zeroturnaround.com\"><span class=\"sitestr\">zeroturnaround.com</span></a>)</span></td></tr><tr><td colspan=\"2\"></td><td class=\"subtext\">\n",
      "        <span class=\"score\" id=\"score_17061026\">79 points</span> by <a href=\"user?id=based2\" class=\"hnuser\">based2</a> <span class=\"age\"><a href=\"item?id=17061026\">5 hours ago</a></span> <span id=\"unv_17061026\"></span> | <a href=\"hide?id=17061026&amp;goto=news\">hide</a> | <a href=\"item?id=17061026\">53&nbsp;comments</a>              </td></tr>\n",
      "      <tr class=\"spacer\" style=\"height:5px\"></tr>\n",
      "                <tr class='athing' id='17059297'>\n",
      "      <td align=\"right\" valign=\"top\" class=\"title\"><span class=\"rank\">20.</span></td>      <td valign=\"top\" class=\"votelinks\"><center><a id='up_17059297' href='vote?id=17059297&amp;how=up&amp;goto=news'><div class='votearrow' title='upvote'></div></a></center></td><td class=\"title\"><a href=\"http://www.open-std.org/jtc1/sc22/wg21/docs/papers/2018/p0709r0.pdf\" class=\"storylink\">Zero-overhead deterministic exceptions: Throwing values [pdf]</a><span class=\"sitebit comhead\"> (<a href=\"from?site=open-std.org\"><span class=\"sitestr\">open-std.org</span></a>)</span></td></tr><tr><td colspan=\"2\"></td><td class=\"subtext\">\n",
      "        <span class=\"score\" id=\"score_17059297\">42 points</span> by <a href=\"user?id=ingve\" class=\"hnuser\">ingve</a> <span class=\"age\"><a href=\"item?id=17059297\">11 hours ago</a></span> <span id=\"unv_17059297\"></span> | <a href=\"hide?id=17059297&amp;goto=news\">hide</a> | <a href=\"item?id=17059297\">11&nbsp;comments</a>              </td></tr>\n",
      "      <tr class=\"spacer\" style=\"height:5px\"></tr>\n",
      "                <tr class='athing' id='17061411'>\n",
      "      <td align=\"right\" valign=\"top\" class=\"title\"><span class=\"rank\">21.</span></td>      <td valign=\"top\" class=\"votelinks\"><center><a id='up_17061411' href='vote?id=17061411&amp;how=up&amp;goto=news'><div class='votearrow' title='upvote'></div></a></center></td><td class=\"title\"><a href=\"https://www.nytimes.com/2018/05/13/business/deadly-convenience-keyless-cars-and-their-carbon-monoxide-toll.html\" class=\"storylink\">Keyless Cars and Their Carbon Monoxide Toll</a><span class=\"sitebit comhead\"> (<a href=\"from?site=nytimes.com\"><span class=\"sitestr\">nytimes.com</span></a>)</span></td></tr><tr><td colspan=\"2\"></td><td class=\"subtext\">\n",
      "        <span class=\"score\" id=\"score_17061411\">64 points</span> by <a href=\"user?id=helloworld\" class=\"hnuser\">helloworld</a> <span class=\"age\"><a href=\"item?id=17061411\">3 hours ago</a></span> <span id=\"unv_17061411\"></span> | <a href=\"hide?id=17061411&amp;goto=news\">hide</a> | <a href=\"item?id=17061411\">92&nbsp;comments</a>              </td></tr>\n",
      "      <tr class=\"spacer\" style=\"height:5px\"></tr>\n",
      "                <tr class='athing' id='17059309'>\n",
      "      <td align=\"right\" valign=\"top\" class=\"title\"><span class=\"rank\">22.</span></td>      <td valign=\"top\" class=\"votelinks\"><center><a id='up_17059309' href='vote?id=17059309&amp;how=up&amp;goto=news'><div class='votearrow' title='upvote'></div></a></center></td><td class=\"title\"><a href=\"https://www.nytimes.com/2018/05/13/world/asia/zhong-cave-dwellers.html\" class=\"storylink\">China’s Last Cave Dwellers</a><span class=\"sitebit comhead\"> (<a href=\"from?site=nytimes.com\"><span class=\"sitestr\">nytimes.com</span></a>)</span></td></tr><tr><td colspan=\"2\"></td><td class=\"subtext\">\n",
      "        <span class=\"score\" id=\"score_17059309\">30 points</span> by <a href=\"user?id=spking\" class=\"hnuser\">spking</a> <span class=\"age\"><a href=\"item?id=17059309\">11 hours ago</a></span> <span id=\"unv_17059309\"></span> | <a href=\"hide?id=17059309&amp;goto=news\">hide</a> | <a href=\"item?id=17059309\">6&nbsp;comments</a>              </td></tr>\n",
      "      <tr class=\"spacer\" style=\"height:5px\"></tr>\n",
      "                <tr class='athing' id='17058880'>\n",
      "      <td align=\"right\" valign=\"top\" class=\"title\"><span class=\"rank\">23.</span></td>      <td valign=\"top\" class=\"votelinks\"><center><a id='up_17058880' href='vote?id=17058880&amp;how=up&amp;goto=news'><div class='votearrow' title='upvote'></div></a></center></td><td class=\"title\"><a href=\"http://www.takedown.com/\" class=\"storylink\">Takedown (1995)</a><span class=\"sitebit comhead\"> (<a href=\"from?site=takedown.com\"><span class=\"sitestr\">takedown.com</span></a>)</span></td></tr><tr><td colspan=\"2\"></td><td class=\"subtext\">\n",
      "        <span class=\"score\" id=\"score_17058880\">30 points</span> by <a href=\"user?id=brudgers\" class=\"hnuser\">brudgers</a> <span class=\"age\"><a href=\"item?id=17058880\">12 hours ago</a></span> <span id=\"unv_17058880\"></span> | <a href=\"hide?id=17058880&amp;goto=news\">hide</a> | <a href=\"item?id=17058880\">35&nbsp;comments</a>              </td></tr>\n",
      "      <tr class=\"spacer\" style=\"height:5px\"></tr>\n",
      "                <tr class='athing' id='17060813'>\n",
      "      <td align=\"right\" valign=\"top\" class=\"title\"><span class=\"rank\">24.</span></td>      <td valign=\"top\" class=\"votelinks\"><center><a id='up_17060813' href='vote?id=17060813&amp;how=up&amp;goto=news'><div class='votearrow' title='upvote'></div></a></center></td><td class=\"title\"><a href=\"https://techcrunch.com/2018/05/13/the-crypto-alternative/\" class=\"storylink\">The crypto alternative</a><span class=\"sitebit comhead\"> (<a href=\"from?site=techcrunch.com\"><span class=\"sitestr\">techcrunch.com</span></a>)</span></td></tr><tr><td colspan=\"2\"></td><td class=\"subtext\">\n",
      "        <span class=\"score\" id=\"score_17060813\">52 points</span> by <a href=\"user?id=tdurden\" class=\"hnuser\">tdurden</a> <span class=\"age\"><a href=\"item?id=17060813\">6 hours ago</a></span> <span id=\"unv_17060813\"></span> | <a href=\"hide?id=17060813&amp;goto=news\">hide</a> | <a href=\"item?id=17060813\">24&nbsp;comments</a>              </td></tr>\n",
      "      <tr class=\"spacer\" style=\"height:5px\"></tr>\n",
      "                <tr class='athing' id='17060343'>\n",
      "      <td align=\"right\" valign=\"top\" class=\"title\"><span class=\"rank\">25.</span></td>      <td valign=\"top\" class=\"votelinks\"><center><a id='up_17060343' href='vote?id=17060343&amp;how=up&amp;goto=news'><div class='votearrow' title='upvote'></div></a></center></td><td class=\"title\"><a href=\"https://www.theguardian.com/money/2018/may/07/pool-basement-wealth-super-rich-digging-down-london\" class=\"storylink\">How the super-rich are digging down in London</a><span class=\"sitebit comhead\"> (<a href=\"from?site=theguardian.com\"><span class=\"sitestr\">theguardian.com</span></a>)</span></td></tr><tr><td colspan=\"2\"></td><td class=\"subtext\">\n",
      "        <span class=\"score\" id=\"score_17060343\">70 points</span> by <a href=\"user?id=bryanrasmussen\" class=\"hnuser\">bryanrasmussen</a> <span class=\"age\"><a href=\"item?id=17060343\">7 hours ago</a></span> <span id=\"unv_17060343\"></span> | <a href=\"hide?id=17060343&amp;goto=news\">hide</a> | <a href=\"item?id=17060343\">55&nbsp;comments</a>              </td></tr>\n",
      "      <tr class=\"spacer\" style=\"height:5px\"></tr>\n",
      "                <tr class='athing' id='17058311'>\n",
      "      <td align=\"right\" valign=\"top\" class=\"title\"><span class=\"rank\">26.</span></td>      <td valign=\"top\" class=\"votelinks\"><center><a id='up_17058311' href='vote?id=17058311&amp;how=up&amp;goto=news'><div class='votearrow' title='upvote'></div></a></center></td><td class=\"title\"><a href=\"https://krasimir.gitbooks.io/react-in-patterns/content/\" class=\"storylink\">React in Patterns</a><span class=\"sitebit comhead\"> (<a href=\"from?site=gitbooks.io\"><span class=\"sitestr\">gitbooks.io</span></a>)</span></td></tr><tr><td colspan=\"2\"></td><td class=\"subtext\">\n",
      "        <span class=\"score\" id=\"score_17058311\">121 points</span> by <a href=\"user?id=nikhildaga\" class=\"hnuser\">nikhildaga</a> <span class=\"age\"><a href=\"item?id=17058311\">15 hours ago</a></span> <span id=\"unv_17058311\"></span> | <a href=\"hide?id=17058311&amp;goto=news\">hide</a> | <a href=\"item?id=17058311\">6&nbsp;comments</a>              </td></tr>\n",
      "      <tr class=\"spacer\" style=\"height:5px\"></tr>\n",
      "                <tr class='athing' id='17060034'>\n",
      "      <td align=\"right\" valign=\"top\" class=\"title\"><span class=\"rank\">27.</span></td>      <td valign=\"top\" class=\"votelinks\"><center><a id='up_17060034' href='vote?id=17060034&amp;how=up&amp;goto=news'><div class='votearrow' title='upvote'></div></a></center></td><td class=\"title\"><a href=\"http://www.businessinsider.com/robinhood-crypto-stock-trading-new-funding-valuation-2018-5\" class=\"storylink\">Stock-trading app Robinhood was rejected by 75 investors</a><span class=\"sitebit comhead\"> (<a href=\"from?site=businessinsider.com\"><span class=\"sitestr\">businessinsider.com</span></a>)</span></td></tr><tr><td colspan=\"2\"></td><td class=\"subtext\">\n",
      "        <span class=\"score\" id=\"score_17060034\">125 points</span> by <a href=\"user?id=jaoued\" class=\"hnuser\">jaoued</a> <span class=\"age\"><a href=\"item?id=17060034\">8 hours ago</a></span> <span id=\"unv_17060034\"></span> | <a href=\"hide?id=17060034&amp;goto=news\">hide</a> | <a href=\"item?id=17060034\">115&nbsp;comments</a>              </td></tr>\n",
      "      <tr class=\"spacer\" style=\"height:5px\"></tr>\n",
      "                <tr class='athing' id='17061454'>\n",
      "      <td align=\"right\" valign=\"top\" class=\"title\"><span class=\"rank\">28.</span></td>      <td></td><td class=\"title\"><a href=\"item?id=17061454\" class=\"storylink\">Work in Harajuku and transform the way the world shops $100k – $180k</a></td></tr><tr><td colspan=\"2\"></td><td class=\"subtext\">\n",
      "        <span class=\"age\"><a href=\"item?id=17061454\">3 hours ago</a></span> | <a href=\"hide?id=17061454&amp;goto=news\">hide</a>      </td></tr>\n",
      "      <tr class=\"spacer\" style=\"height:5px\"></tr>\n",
      "                <tr class='athing' id='17057566'>\n",
      "      <td align=\"right\" valign=\"top\" class=\"title\"><span class=\"rank\">29.</span></td>      <td valign=\"top\" class=\"votelinks\"><center><a id='up_17057566' href='vote?id=17057566&amp;how=up&amp;goto=news'><div class='votearrow' title='upvote'></div></a></center></td><td class=\"title\"><a href=\"http://unicode.org/reports/tr18/\" class=\"storylink\">Unicode Regular Expressions</a><span class=\"sitebit comhead\"> (<a href=\"from?site=unicode.org\"><span class=\"sitestr\">unicode.org</span></a>)</span></td></tr><tr><td colspan=\"2\"></td><td class=\"subtext\">\n",
      "        <span class=\"score\" id=\"score_17057566\">84 points</span> by <a href=\"user?id=kawera\" class=\"hnuser\">kawera</a> <span class=\"age\"><a href=\"item?id=17057566\">16 hours ago</a></span> <span id=\"unv_17057566\"></span> | <a href=\"hide?id=17057566&amp;goto=news\">hide</a> | <a href=\"item?id=17057566\">15&nbsp;comments</a>              </td></tr>\n",
      "      <tr class=\"spacer\" style=\"height:5px\"></tr>\n",
      "                <tr class='athing' id='17057158'>\n",
      "      <td align=\"right\" valign=\"top\" class=\"title\"><span class=\"rank\">30.</span></td>      <td valign=\"top\" class=\"votelinks\"><center><a id='up_17057158' href='vote?id=17057158&amp;how=up&amp;goto=news'><div class='votearrow' title='upvote'></div></a></center></td><td class=\"title\"><a href=\"https://www.atlasobscura.com/articles/what-is-a-saturation-diver\" class=\"storylink\">The Weird, Dangerous, Isolated Life of the Saturation Diver</a><span class=\"sitebit comhead\"> (<a href=\"from?site=atlasobscura.com\"><span class=\"sitestr\">atlasobscura.com</span></a>)</span></td></tr><tr><td colspan=\"2\"></td><td class=\"subtext\">\n",
      "        <span class=\"score\" id=\"score_17057158\">183 points</span> by <a href=\"user?id=tokenadult\" class=\"hnuser\">tokenadult</a> <span class=\"age\"><a href=\"item?id=17057158\">23 hours ago</a></span> <span id=\"unv_17057158\"></span> | <a href=\"hide?id=17057158&amp;goto=news\">hide</a> | <a href=\"item?id=17057158\">74&nbsp;comments</a>              </td></tr>\n",
      "      <tr class=\"spacer\" style=\"height:5px\"></tr>\n",
      "            <tr class=\"morespace\" style=\"height:10px\"></tr><tr><td colspan=\"2\"></td><td class=\"title\"><a href=\"news?p=2\" class=\"morelink\" rel=\"nofollow\">More</a></td></tr>\n",
      "  </table>\n",
      "</td></tr>\n",
      "<tr><td><img src=\"s.gif\" height=\"10\" width=\"0\"><table width=\"100%\" cellspacing=\"0\" cellpadding=\"1\"><tr><td bgcolor=\"#ff6600\"></td></tr></table><br><center><span class=\"yclinks\"><a href=\"newsguidelines.html\">Guidelines</a>\n",
      "        | <a href=\"newsfaq.html\">FAQ</a>\n",
      "        | <a href=\"mailto:hn@ycombinator.com\">Support</a>\n",
      "        | <a href=\"https://github.com/HackerNews/API\">API</a>\n",
      "        | <a href=\"security.html\">Security</a>\n",
      "        | <a href=\"lists\">Lists</a>\n",
      "        | <a href=\"bookmarklet.html\" rel=\"nofollow\">Bookmarklet</a>\n",
      "        | <a href=\"http://www.ycombinator.com/legal/\">Legal</a>\n",
      "        | <a href=\"http://www.ycombinator.com/apply/\">Apply to YC</a>\n",
      "        | <a href=\"mailto:hn@ycombinator.com\">Contact</a></span><br><br><form method=\"get\" action=\"//hn.algolia.com/\">Search:\n",
      "          <input type=\"text\" name=\"q\" value=\"\" size=\"17\" autocorrect=\"off\" spellcheck=\"false\" autocapitalize=\"off\" autocomplete=\"false\"></form>\n",
      "            </center></td></tr>\n",
      "      </table></center></body><script type='text/javascript' src='hn.js?fV109NWmWCCmjDJ8DNau'></script>\n",
      "  </html>\n",
      "\n"
     ]
    }
   ],
   "source": [
    "import requests\n",
    "\n",
    "# Fetch a web page\n",
    "r = requests.get(\"https://news.ycombinator.com\")\n",
    "print(r.status_code)\n",
    "print(r.text)"
   ]
  },
  {
   "cell_type": "code",
   "execution_count": 65,
   "metadata": {},
   "outputs": [
    {
     "name": "stdout",
     "output_type": "stream",
     "text": [
      "\n",
      "            \n",
      "          \n",
      "        Hacker News\n",
      "        \n",
      "                  Hacker News\n",
      "              new | comments | show | ask | jobs | submit            \n",
      "                              login\n",
      "                          \n",
      "              \n",
      "\n",
      "              \n",
      "      1.      How to start a Go project in 2018 (boyter.org)\n",
      "        68 points by boyter 2 hours ago  | hide | 18&nbsp;comments              \n",
      "      \n",
      "                \n",
      "      2.      Progress – A Tool to Monitor Progress for Commands in Linux (2016) (tecmint.com)\n",
      "        107 points by mpweiher 5 hours ago  | hide | 13&nbsp;comments              \n",
      "      \n",
      "                \n",
      "      3.      Bitsavers (bitsavers.org)\n",
      "        78 points by tosh 5 hours ago  | hide | 9&nbsp;comments              \n",
      "      \n",
      "                \n",
      "      4.      Tolkien Expressed a “Heartfelt Loathing” for Walt Disney (openculture.com)\n",
      "        65 points by jedwhite 2 hours ago  | hide | 34&nbsp;comments              \n",
      "      \n",
      "                \n",
      "      5.      Event Sourcing made Simple (kickstarter.engineering)\n",
      "        80 points by based2 5 hours ago  | hide | 19&nbsp;comments              \n",
      "      \n",
      "                \n",
      "      6.      Al Jazeera open-sources InterviewJS, turns interviews into interactive chats (journalism.co.uk)\n",
      "        90 points by mark-ruwt 7 hours ago  | hide | 17&nbsp;comments              \n",
      "      \n",
      "                \n",
      "      7.      Is IPv6 only for the Rich? [pdf] (ripe.net)\n",
      "        86 points by okket 7 hours ago  | hide | 40&nbsp;comments              \n",
      "      \n",
      "                \n",
      "      8.      GDPR will pop the adtech bubble (harvard.edu)\n",
      "        444 points by mpweiher 8 hours ago  | hide | 311&nbsp;comments              \n",
      "      \n",
      "                \n",
      "      9.      Developing HTTPS Services in Node with Self-Signed Certificates (mattcbaker.com)\n",
      "        29 points by mattcbaker 5 hours ago  | hide | 3&nbsp;comments              \n",
      "      \n",
      "                \n",
      "      10.      Ask HN: How is DDoS protection implemented?\n",
      "        93 points by elephant0xffff 4 hours ago  | hide | 25&nbsp;comments              \n",
      "      \n",
      "                \n",
      "      11.      The State of Cryptocurrency Mining (sia.tech)\n",
      "        102 points by dsr12 9 hours ago  | hide | 13&nbsp;comments              \n",
      "      \n",
      "                \n",
      "      12.      Look in the Mirror America, to See a Reason Drug Prices Are So High (bloomberg.com)\n",
      "        36 points by toomuchtodo 5 hours ago  | hide | 34&nbsp;comments              \n",
      "      \n",
      "                \n",
      "      13.      Are My Friends Really My Friends? (nytimes.com)\n",
      "        146 points by dsr12 11 hours ago  | hide | 43&nbsp;comments              \n",
      "      \n",
      "                \n",
      "      14.      Noteplan – Markdown Calendar, Todos, and Notes (noteplan.co)\n",
      "        150 points by jbverschoor 12 hours ago  | hide | 75&nbsp;comments              \n",
      "      \n",
      "                \n",
      "      15.      Extending Tcl (tcl.tk)\n",
      "        110 points by blacksqr 12 hours ago  | hide | 41&nbsp;comments              \n",
      "      \n",
      "                \n",
      "      16.      Successful Installation of Microsoft Chat on Ubuntu Linux via Wine 3.0 (microsoftchat.blogspot.com)\n",
      "        4 points by bane 2 hours ago  | hide | 3&nbsp;comments              \n",
      "      \n",
      "                \n",
      "      17.      Show HN: I built a peer to peer publishing platform (peerdium.com)\n",
      "        34 points by vishnu_ks 7 hours ago  | hide | 5&nbsp;comments              \n",
      "      \n",
      "                \n",
      "      18.      Steve Jobs Gives a Wide-Ranging Talk at MIT Sloan School of Management(1992) (youtube.com)\n",
      "        9 points by LiweiZ 1 hour ago  | hide | discuss              \n",
      "      \n",
      "                \n",
      "      19.      Java 10 and beyond – a look at the potential language change (zeroturnaround.com)\n",
      "        79 points by based2 5 hours ago  | hide | 53&nbsp;comments              \n",
      "      \n",
      "                \n",
      "      20.      Zero-overhead deterministic exceptions: Throwing values [pdf] (open-std.org)\n",
      "        42 points by ingve 11 hours ago  | hide | 11&nbsp;comments              \n",
      "      \n",
      "                \n",
      "      21.      Keyless Cars and Their Carbon Monoxide Toll (nytimes.com)\n",
      "        64 points by helloworld 3 hours ago  | hide | 92&nbsp;comments              \n",
      "      \n",
      "                \n",
      "      22.      China’s Last Cave Dwellers (nytimes.com)\n",
      "        30 points by spking 11 hours ago  | hide | 6&nbsp;comments              \n",
      "      \n",
      "                \n",
      "      23.      Takedown (1995) (takedown.com)\n",
      "        30 points by brudgers 12 hours ago  | hide | 35&nbsp;comments              \n",
      "      \n",
      "                \n",
      "      24.      The crypto alternative (techcrunch.com)\n",
      "        52 points by tdurden 6 hours ago  | hide | 24&nbsp;comments              \n",
      "      \n",
      "                \n",
      "      25.      How the super-rich are digging down in London (theguardian.com)\n",
      "        70 points by bryanrasmussen 7 hours ago  | hide | 55&nbsp;comments              \n",
      "      \n",
      "                \n",
      "      26.      React in Patterns (gitbooks.io)\n",
      "        121 points by nikhildaga 15 hours ago  | hide | 6&nbsp;comments              \n",
      "      \n",
      "                \n",
      "      27.      Stock-trading app Robinhood was rejected by 75 investors (businessinsider.com)\n",
      "        125 points by jaoued 8 hours ago  | hide | 115&nbsp;comments              \n",
      "      \n",
      "                \n",
      "      28.      Work in Harajuku and transform the way the world shops $100k – $180k\n",
      "        3 hours ago | hide      \n",
      "      \n",
      "                \n",
      "      29.      Unicode Regular Expressions (unicode.org)\n",
      "        84 points by kawera 16 hours ago  | hide | 15&nbsp;comments              \n",
      "      \n",
      "                \n",
      "      30.      The Weird, Dangerous, Isolated Life of the Saturation Diver (atlasobscura.com)\n",
      "        183 points by tokenadult 23 hours ago  | hide | 74&nbsp;comments              \n",
      "      \n",
      "            More\n",
      "  \n",
      "\n",
      "Guidelines\n",
      "        | FAQ\n",
      "        | Support\n",
      "        | API\n",
      "        | Security\n",
      "        | Lists\n",
      "        | Bookmarklet\n",
      "        | Legal\n",
      "        | Apply to YC\n",
      "        | ContactSearch:\n",
      "          \n",
      "            \n",
      "      \n",
      "  \n",
      "\n"
     ]
    }
   ],
   "source": [
    "import re\n",
    "\n",
    "# Remove HTML tags using RegEx\n",
    "pattern = re.compile(r'<.*?>')  # tags look like <...>\n",
    "print(pattern.sub('', r.text))  # replace them with blank"
   ]
  },
  {
   "cell_type": "code",
   "execution_count": 66,
   "metadata": {},
   "outputs": [
    {
     "name": "stdout",
     "output_type": "stream",
     "text": [
      "\n",
      "            \n",
      "          \n",
      "        Hacker News\n",
      "        \n",
      "                  Hacker News\n",
      "              new | comments | show | ask | jobs | submit            \n",
      "                              login\n",
      "                          \n",
      "              \n",
      "\n",
      "              \n",
      "      1.      How to start a Go project in 2018 (boyter.org)\n",
      "        68 points by boyter 2 hours ago  | hide | 18 comments              \n",
      "      \n",
      "                \n",
      "      2.      Progress – A Tool to Monitor Progress for Commands in Linux (2016) (tecmint.com)\n",
      "        107 points by mpweiher 5 hours ago  | hide | 13 comments              \n",
      "      \n",
      "                \n",
      "      3.      Bitsavers (bitsavers.org)\n",
      "        78 points by tosh 5 hours ago  | hide | 9 comments              \n",
      "      \n",
      "                \n",
      "      4.      Tolkien Expressed a “Heartfelt Loathing” for Walt Disney (openculture.com)\n",
      "        65 points by jedwhite 2 hours ago  | hide | 34 comments              \n",
      "      \n",
      "                \n",
      "      5.      Event Sourcing made Simple (kickstarter.engineering)\n",
      "        80 points by based2 5 hours ago  | hide | 19 comments              \n",
      "      \n",
      "                \n",
      "      6.      Al Jazeera open-sources InterviewJS, turns interviews into interactive chats (journalism.co.uk)\n",
      "        90 points by mark-ruwt 7 hours ago  | hide | 17 comments              \n",
      "      \n",
      "                \n",
      "      7.      Is IPv6 only for the Rich? [pdf] (ripe.net)\n",
      "        86 points by okket 7 hours ago  | hide | 40 comments              \n",
      "      \n",
      "                \n",
      "      8.      GDPR will pop the adtech bubble (harvard.edu)\n",
      "        444 points by mpweiher 8 hours ago  | hide | 311 comments              \n",
      "      \n",
      "                \n",
      "      9.      Developing HTTPS Services in Node with Self-Signed Certificates (mattcbaker.com)\n",
      "        29 points by mattcbaker 5 hours ago  | hide | 3 comments              \n",
      "      \n",
      "                \n",
      "      10.      Ask HN: How is DDoS protection implemented?\n",
      "        93 points by elephant0xffff 4 hours ago  | hide | 25 comments              \n",
      "      \n",
      "                \n",
      "      11.      The State of Cryptocurrency Mining (sia.tech)\n",
      "        102 points by dsr12 9 hours ago  | hide | 13 comments              \n",
      "      \n",
      "                \n",
      "      12.      Look in the Mirror America, to See a Reason Drug Prices Are So High (bloomberg.com)\n",
      "        36 points by toomuchtodo 5 hours ago  | hide | 34 comments              \n",
      "      \n",
      "                \n",
      "      13.      Are My Friends Really My Friends? (nytimes.com)\n",
      "        146 points by dsr12 11 hours ago  | hide | 43 comments              \n",
      "      \n",
      "                \n",
      "      14.      Noteplan – Markdown Calendar, Todos, and Notes (noteplan.co)\n",
      "        150 points by jbverschoor 12 hours ago  | hide | 75 comments              \n",
      "      \n",
      "                \n",
      "      15.      Extending Tcl (tcl.tk)\n",
      "        110 points by blacksqr 12 hours ago  | hide | 41 comments              \n",
      "      \n",
      "                \n",
      "      16.      Successful Installation of Microsoft Chat on Ubuntu Linux via Wine 3.0 (microsoftchat.blogspot.com)\n",
      "        4 points by bane 2 hours ago  | hide | 3 comments              \n",
      "      \n",
      "                \n",
      "      17.      Show HN: I built a peer to peer publishing platform (peerdium.com)\n",
      "        34 points by vishnu_ks 7 hours ago  | hide | 5 comments              \n",
      "      \n",
      "                \n",
      "      18.      Steve Jobs Gives a Wide-Ranging Talk at MIT Sloan School of Management(1992) (youtube.com)\n",
      "        9 points by LiweiZ 1 hour ago  | hide | discuss              \n",
      "      \n",
      "                \n",
      "      19.      Java 10 and beyond – a look at the potential language change (zeroturnaround.com)\n",
      "        79 points by based2 5 hours ago  | hide | 53 comments              \n",
      "      \n",
      "                \n",
      "      20.      Zero-overhead deterministic exceptions: Throwing values [pdf] (open-std.org)\n",
      "        42 points by ingve 11 hours ago  | hide | 11 comments              \n",
      "      \n",
      "                \n",
      "      21.      Keyless Cars and Their Carbon Monoxide Toll (nytimes.com)\n",
      "        64 points by helloworld 3 hours ago  | hide | 92 comments              \n",
      "      \n",
      "                \n",
      "      22.      China’s Last Cave Dwellers (nytimes.com)\n",
      "        30 points by spking 11 hours ago  | hide | 6 comments              \n",
      "      \n",
      "                \n",
      "      23.      Takedown (1995) (takedown.com)\n",
      "        30 points by brudgers 12 hours ago  | hide | 35 comments              \n",
      "      \n",
      "                \n",
      "      24.      The crypto alternative (techcrunch.com)\n",
      "        52 points by tdurden 6 hours ago  | hide | 24 comments              \n",
      "      \n",
      "                \n",
      "      25.      How the super-rich are digging down in London (theguardian.com)\n",
      "        70 points by bryanrasmussen 7 hours ago  | hide | 55 comments              \n",
      "      \n",
      "                \n",
      "      26.      React in Patterns (gitbooks.io)\n",
      "        121 points by nikhildaga 15 hours ago  | hide | 6 comments              \n",
      "      \n",
      "                \n",
      "      27.      Stock-trading app Robinhood was rejected by 75 investors (businessinsider.com)\n",
      "        125 points by jaoued 8 hours ago  | hide | 115 comments              \n",
      "      \n",
      "                \n",
      "      28.      Work in Harajuku and transform the way the world shops $100k – $180k\n",
      "        3 hours ago | hide      \n",
      "      \n",
      "                \n",
      "      29.      Unicode Regular Expressions (unicode.org)\n",
      "        84 points by kawera 16 hours ago  | hide | 15 comments              \n",
      "      \n",
      "                \n",
      "      30.      The Weird, Dangerous, Isolated Life of the Saturation Diver (atlasobscura.com)\n",
      "        183 points by tokenadult 23 hours ago  | hide | 74 comments              \n",
      "      \n",
      "            More\n",
      "  \n",
      "\n",
      "Guidelines\n",
      "        | FAQ\n",
      "        | Support\n",
      "        | API\n",
      "        | Security\n",
      "        | Lists\n",
      "        | Bookmarklet\n",
      "        | Legal\n",
      "        | Apply to YC\n",
      "        | ContactSearch:\n",
      "          \n",
      "            \n",
      "      \n",
      "  \n",
      "\n"
     ]
    }
   ],
   "source": [
    "from bs4 import BeautifulSoup\n",
    "\n",
    "# Remove HTML tags using Beautiful Soup library\n",
    "soup = BeautifulSoup(r.text, \"html5lib\")\n",
    "print(soup.get_text())"
   ]
  },
  {
   "cell_type": "code",
   "execution_count": 68,
   "metadata": {},
   "outputs": [
    {
     "data": {
      "text/plain": [
       "[<tr class=\"athing\" id=\"17061713\">\n",
       "       <td align=\"right\" class=\"title\" valign=\"top\"><span class=\"rank\">1.</span></td>      <td class=\"votelinks\" valign=\"top\"><center><a href=\"vote?id=17061713&amp;how=up&amp;goto=news\" id=\"up_17061713\"><div class=\"votearrow\" title=\"upvote\"></div></a></center></td><td class=\"title\"><a class=\"storylink\" href=\"https://boyter.org/posts/how-to-start-go-project-2018/\">How to start a Go project in 2018</a><span class=\"sitebit comhead\"> (<a href=\"from?site=boyter.org\"><span class=\"sitestr\">boyter.org</span></a>)</span></td></tr>,\n",
       " <tr class=\"athing\" id=\"17061174\">\n",
       "       <td align=\"right\" class=\"title\" valign=\"top\"><span class=\"rank\">2.</span></td>      <td class=\"votelinks\" valign=\"top\"><center><a href=\"vote?id=17061174&amp;how=up&amp;goto=news\" id=\"up_17061174\"><div class=\"votearrow\" title=\"upvote\"></div></a></center></td><td class=\"title\"><a class=\"storylink\" href=\"https://www.tecmint.com/progress-monitor-check-progress-of-linux-commands/\">Progress – A Tool to Monitor Progress for Commands in Linux (2016)</a><span class=\"sitebit comhead\"> (<a href=\"from?site=tecmint.com\"><span class=\"sitestr\">tecmint.com</span></a>)</span></td></tr>,\n",
       " <tr class=\"athing\" id=\"17061181\">\n",
       "       <td align=\"right\" class=\"title\" valign=\"top\"><span class=\"rank\">3.</span></td>      <td class=\"votelinks\" valign=\"top\"><center><a href=\"vote?id=17061181&amp;how=up&amp;goto=news\" id=\"up_17061181\"><div class=\"votearrow\" title=\"upvote\"></div></a></center></td><td class=\"title\"><a class=\"storylink\" href=\"http://www.bitsavers.org/\">Bitsavers</a><span class=\"sitebit comhead\"> (<a href=\"from?site=bitsavers.org\"><span class=\"sitestr\">bitsavers.org</span></a>)</span></td></tr>,\n",
       " <tr class=\"athing\" id=\"17061850\">\n",
       "       <td align=\"right\" class=\"title\" valign=\"top\"><span class=\"rank\">4.</span></td>      <td class=\"votelinks\" valign=\"top\"><center><a href=\"vote?id=17061850&amp;how=up&amp;goto=news\" id=\"up_17061850\"><div class=\"votearrow\" title=\"upvote\"></div></a></center></td><td class=\"title\"><a class=\"storylink\" href=\"http://www.openculture.com/2018/05/j-r-r-tolkien-expressed-a-heartfelt-loathing-for-walt-disney.html\">Tolkien Expressed a “Heartfelt Loathing” for Walt Disney</a><span class=\"sitebit comhead\"> (<a href=\"from?site=openculture.com\"><span class=\"sitestr\">openculture.com</span></a>)</span></td></tr>,\n",
       " <tr class=\"athing\" id=\"17061019\">\n",
       "       <td align=\"right\" class=\"title\" valign=\"top\"><span class=\"rank\">5.</span></td>      <td class=\"votelinks\" valign=\"top\"><center><a href=\"vote?id=17061019&amp;how=up&amp;goto=news\" id=\"up_17061019\"><div class=\"votearrow\" title=\"upvote\"></div></a></center></td><td class=\"title\"><a class=\"storylink\" href=\"https://kickstarter.engineering/event-sourcing-made-simple-4a2625113224\">Event Sourcing made Simple</a><span class=\"sitebit comhead\"> (<a href=\"from?site=kickstarter.engineering\"><span class=\"sitestr\">kickstarter.engineering</span></a>)</span></td></tr>,\n",
       " <tr class=\"athing\" id=\"17060540\">\n",
       "       <td align=\"right\" class=\"title\" valign=\"top\"><span class=\"rank\">6.</span></td>      <td class=\"votelinks\" valign=\"top\"><center><a href=\"vote?id=17060540&amp;how=up&amp;goto=news\" id=\"up_17060540\"><div class=\"votearrow\" title=\"upvote\"></div></a></center></td><td class=\"title\"><a class=\"storylink\" href=\"https://www.journalism.co.uk/news/tool-for-journalists-interviewjs-for-turning-interviews-into-interactive-chats/s2/a721546/\">Al Jazeera open-sources InterviewJS, turns interviews into interactive chats</a><span class=\"sitebit comhead\"> (<a href=\"from?site=journalism.co.uk\"><span class=\"sitestr\">journalism.co.uk</span></a>)</span></td></tr>,\n",
       " <tr class=\"athing\" id=\"17060437\">\n",
       "       <td align=\"right\" class=\"title\" valign=\"top\"><span class=\"rank\">7.</span></td>      <td class=\"votelinks\" valign=\"top\"><center><a href=\"vote?id=17060437&amp;how=up&amp;goto=news\" id=\"up_17060437\"><div class=\"votearrow\" title=\"upvote\"></div></a></center></td><td class=\"title\"><a class=\"storylink\" href=\"https://ripe76.ripe.net/presentations/9-2018-05-17-ipv6-reasons.pdf\">Is IPv6 only for the Rich? [pdf]</a><span class=\"sitebit comhead\"> (<a href=\"from?site=ripe.net\"><span class=\"sitestr\">ripe.net</span></a>)</span></td></tr>,\n",
       " <tr class=\"athing\" id=\"17060085\">\n",
       "       <td align=\"right\" class=\"title\" valign=\"top\"><span class=\"rank\">8.</span></td>      <td class=\"votelinks\" valign=\"top\"><center><a href=\"vote?id=17060085&amp;how=up&amp;goto=news\" id=\"up_17060085\"><div class=\"votearrow\" title=\"upvote\"></div></a></center></td><td class=\"title\"><a class=\"storylink\" href=\"http://blogs.harvard.edu/doc/2018/05/12/gdpr/\">GDPR will pop the adtech bubble</a><span class=\"sitebit comhead\"> (<a href=\"from?site=harvard.edu\"><span class=\"sitestr\">harvard.edu</span></a>)</span></td></tr>,\n",
       " <tr class=\"athing\" id=\"17061133\">\n",
       "       <td align=\"right\" class=\"title\" valign=\"top\"><span class=\"rank\">9.</span></td>      <td class=\"votelinks\" valign=\"top\"><center><a href=\"vote?id=17061133&amp;how=up&amp;goto=news\" id=\"up_17061133\"><div class=\"votearrow\" title=\"upvote\"></div></a></center></td><td class=\"title\"><a class=\"storylink\" href=\"https://mattcbaker.com/post/developing-https-node-local/\">Developing HTTPS Services in Node with Self-Signed Certificates</a><span class=\"sitebit comhead\"> (<a href=\"from?site=mattcbaker.com\"><span class=\"sitestr\">mattcbaker.com</span></a>)</span></td></tr>,\n",
       " <tr class=\"athing\" id=\"17061281\">\n",
       "       <td align=\"right\" class=\"title\" valign=\"top\"><span class=\"rank\">10.</span></td>      <td class=\"votelinks\" valign=\"top\"><center><a href=\"vote?id=17061281&amp;how=up&amp;goto=news\" id=\"up_17061281\"><div class=\"votearrow\" title=\"upvote\"></div></a></center></td><td class=\"title\"><a class=\"storylink\" href=\"item?id=17061281\">Ask HN: How is DDoS protection implemented?</a></td></tr>,\n",
       " <tr class=\"athing\" id=\"17059858\">\n",
       "       <td align=\"right\" class=\"title\" valign=\"top\"><span class=\"rank\">11.</span></td>      <td class=\"votelinks\" valign=\"top\"><center><a href=\"vote?id=17059858&amp;how=up&amp;goto=news\" id=\"up_17059858\"><div class=\"votearrow\" title=\"upvote\"></div></a></center></td><td class=\"title\"><a class=\"storylink\" href=\"https://blog.sia.tech/the-state-of-cryptocurrency-mining-538004a37f9b\">The State of Cryptocurrency Mining</a><span class=\"sitebit comhead\"> (<a href=\"from?site=sia.tech\"><span class=\"sitestr\">sia.tech</span></a>)</span></td></tr>,\n",
       " <tr class=\"athing\" id=\"17061085\">\n",
       "       <td align=\"right\" class=\"title\" valign=\"top\"><span class=\"rank\">12.</span></td>      <td class=\"votelinks\" valign=\"top\"><center><a href=\"vote?id=17061085&amp;how=up&amp;goto=news\" id=\"up_17061085\"><div class=\"votearrow\" title=\"upvote\"></div></a></center></td><td class=\"title\"><a class=\"storylink\" href=\"https://www.bloomberg.com/view/articles/2018-05-11/to-lower-drug-prices-trump-should-boost-generics\">Look in the Mirror America, to See a Reason Drug Prices Are So High</a><span class=\"sitebit comhead\"> (<a href=\"from?site=bloomberg.com\"><span class=\"sitestr\">bloomberg.com</span></a>)</span></td></tr>,\n",
       " <tr class=\"athing\" id=\"17059237\">\n",
       "       <td align=\"right\" class=\"title\" valign=\"top\"><span class=\"rank\">13.</span></td>      <td class=\"votelinks\" valign=\"top\"><center><a href=\"vote?id=17059237&amp;how=up&amp;goto=news\" id=\"up_17059237\"><div class=\"votearrow\" title=\"upvote\"></div></a></center></td><td class=\"title\"><a class=\"storylink\" href=\"https://www.nytimes.com/2018/05/12/style/who-are-my-real-friends.html\">Are My Friends Really My Friends?</a><span class=\"sitebit comhead\"> (<a href=\"from?site=nytimes.com\"><span class=\"sitestr\">nytimes.com</span></a>)</span></td></tr>,\n",
       " <tr class=\"athing\" id=\"17058884\">\n",
       "       <td align=\"right\" class=\"title\" valign=\"top\"><span class=\"rank\">14.</span></td>      <td class=\"votelinks\" valign=\"top\"><center><a href=\"vote?id=17058884&amp;how=up&amp;goto=news\" id=\"up_17058884\"><div class=\"votearrow\" title=\"upvote\"></div></a></center></td><td class=\"title\"><a class=\"storylink\" href=\"https://noteplan.co/\">Noteplan – Markdown Calendar, Todos, and Notes</a><span class=\"sitebit comhead\"> (<a href=\"from?site=noteplan.co\"><span class=\"sitestr\">noteplan.co</span></a>)</span></td></tr>,\n",
       " <tr class=\"athing\" id=\"17059077\">\n",
       "       <td align=\"right\" class=\"title\" valign=\"top\"><span class=\"rank\">15.</span></td>      <td class=\"votelinks\" valign=\"top\"><center><a href=\"vote?id=17059077&amp;how=up&amp;goto=news\" id=\"up_17059077\"><div class=\"votearrow\" title=\"upvote\"></div></a></center></td><td class=\"title\"><a class=\"storylink\" href=\"http://wiki.tcl.tk/6276\">Extending Tcl</a><span class=\"sitebit comhead\"> (<a href=\"from?site=tcl.tk\"><span class=\"sitestr\">tcl.tk</span></a>)</span></td></tr>,\n",
       " <tr class=\"athing\" id=\"17061855\">\n",
       "       <td align=\"right\" class=\"title\" valign=\"top\"><span class=\"rank\">16.</span></td>      <td class=\"votelinks\" valign=\"top\"><center><a href=\"vote?id=17061855&amp;how=up&amp;goto=news\" id=\"up_17061855\"><div class=\"votearrow\" title=\"upvote\"></div></a></center></td><td class=\"title\"><a class=\"storylink\" href=\"http://microsoftchat.blogspot.com/2018/01/successful-installation-of-microsoft.html\" rel=\"nofollow\">Successful Installation of Microsoft Chat on Ubuntu Linux via Wine 3.0</a><span class=\"sitebit comhead\"> (<a href=\"from?site=microsoftchat.blogspot.com\"><span class=\"sitestr\">microsoftchat.blogspot.com</span></a>)</span></td></tr>,\n",
       " <tr class=\"athing\" id=\"17060272\">\n",
       "       <td align=\"right\" class=\"title\" valign=\"top\"><span class=\"rank\">17.</span></td>      <td class=\"votelinks\" valign=\"top\"><center><a href=\"vote?id=17060272&amp;how=up&amp;goto=news\" id=\"up_17060272\"><div class=\"votearrow\" title=\"upvote\"></div></a></center></td><td class=\"title\"><a class=\"storylink\" href=\"https://peerdium.com/60f4108c22bf6d6a9023e94f9dac86bae829804c5b3hs3r5caya6se\">Show HN: I built a peer to peer publishing platform</a><span class=\"sitebit comhead\"> (<a href=\"from?site=peerdium.com\"><span class=\"sitestr\">peerdium.com</span></a>)</span></td></tr>,\n",
       " <tr class=\"athing\" id=\"17062032\">\n",
       "       <td align=\"right\" class=\"title\" valign=\"top\"><span class=\"rank\">18.</span></td>      <td class=\"votelinks\" valign=\"top\"><center><a href=\"vote?id=17062032&amp;how=up&amp;goto=news\" id=\"up_17062032\"><div class=\"votearrow\" title=\"upvote\"></div></a></center></td><td class=\"title\"><a class=\"storylink\" href=\"https://www.youtube.com/watch?v=Gk-9Fd2mEnI\">Steve Jobs Gives a Wide-Ranging Talk at MIT Sloan School of Management(1992)</a><span class=\"sitebit comhead\"> (<a href=\"from?site=youtube.com\"><span class=\"sitestr\">youtube.com</span></a>)</span></td></tr>,\n",
       " <tr class=\"athing\" id=\"17061026\">\n",
       "       <td align=\"right\" class=\"title\" valign=\"top\"><span class=\"rank\">19.</span></td>      <td class=\"votelinks\" valign=\"top\"><center><a href=\"vote?id=17061026&amp;how=up&amp;goto=news\" id=\"up_17061026\"><div class=\"votearrow\" title=\"upvote\"></div></a></center></td><td class=\"title\"><a class=\"storylink\" href=\"https://zeroturnaround.com/rebellabs/java-10-and-beyond-a-look-at-the-potential-language-change/\">Java 10 and beyond – a look at the potential language change</a><span class=\"sitebit comhead\"> (<a href=\"from?site=zeroturnaround.com\"><span class=\"sitestr\">zeroturnaround.com</span></a>)</span></td></tr>,\n",
       " <tr class=\"athing\" id=\"17059297\">\n",
       "       <td align=\"right\" class=\"title\" valign=\"top\"><span class=\"rank\">20.</span></td>      <td class=\"votelinks\" valign=\"top\"><center><a href=\"vote?id=17059297&amp;how=up&amp;goto=news\" id=\"up_17059297\"><div class=\"votearrow\" title=\"upvote\"></div></a></center></td><td class=\"title\"><a class=\"storylink\" href=\"http://www.open-std.org/jtc1/sc22/wg21/docs/papers/2018/p0709r0.pdf\">Zero-overhead deterministic exceptions: Throwing values [pdf]</a><span class=\"sitebit comhead\"> (<a href=\"from?site=open-std.org\"><span class=\"sitestr\">open-std.org</span></a>)</span></td></tr>,\n",
       " <tr class=\"athing\" id=\"17061411\">\n",
       "       <td align=\"right\" class=\"title\" valign=\"top\"><span class=\"rank\">21.</span></td>      <td class=\"votelinks\" valign=\"top\"><center><a href=\"vote?id=17061411&amp;how=up&amp;goto=news\" id=\"up_17061411\"><div class=\"votearrow\" title=\"upvote\"></div></a></center></td><td class=\"title\"><a class=\"storylink\" href=\"https://www.nytimes.com/2018/05/13/business/deadly-convenience-keyless-cars-and-their-carbon-monoxide-toll.html\">Keyless Cars and Their Carbon Monoxide Toll</a><span class=\"sitebit comhead\"> (<a href=\"from?site=nytimes.com\"><span class=\"sitestr\">nytimes.com</span></a>)</span></td></tr>,\n",
       " <tr class=\"athing\" id=\"17059309\">\n",
       "       <td align=\"right\" class=\"title\" valign=\"top\"><span class=\"rank\">22.</span></td>      <td class=\"votelinks\" valign=\"top\"><center><a href=\"vote?id=17059309&amp;how=up&amp;goto=news\" id=\"up_17059309\"><div class=\"votearrow\" title=\"upvote\"></div></a></center></td><td class=\"title\"><a class=\"storylink\" href=\"https://www.nytimes.com/2018/05/13/world/asia/zhong-cave-dwellers.html\">China’s Last Cave Dwellers</a><span class=\"sitebit comhead\"> (<a href=\"from?site=nytimes.com\"><span class=\"sitestr\">nytimes.com</span></a>)</span></td></tr>,\n",
       " <tr class=\"athing\" id=\"17058880\">\n",
       "       <td align=\"right\" class=\"title\" valign=\"top\"><span class=\"rank\">23.</span></td>      <td class=\"votelinks\" valign=\"top\"><center><a href=\"vote?id=17058880&amp;how=up&amp;goto=news\" id=\"up_17058880\"><div class=\"votearrow\" title=\"upvote\"></div></a></center></td><td class=\"title\"><a class=\"storylink\" href=\"http://www.takedown.com/\">Takedown (1995)</a><span class=\"sitebit comhead\"> (<a href=\"from?site=takedown.com\"><span class=\"sitestr\">takedown.com</span></a>)</span></td></tr>,\n",
       " <tr class=\"athing\" id=\"17060813\">\n",
       "       <td align=\"right\" class=\"title\" valign=\"top\"><span class=\"rank\">24.</span></td>      <td class=\"votelinks\" valign=\"top\"><center><a href=\"vote?id=17060813&amp;how=up&amp;goto=news\" id=\"up_17060813\"><div class=\"votearrow\" title=\"upvote\"></div></a></center></td><td class=\"title\"><a class=\"storylink\" href=\"https://techcrunch.com/2018/05/13/the-crypto-alternative/\">The crypto alternative</a><span class=\"sitebit comhead\"> (<a href=\"from?site=techcrunch.com\"><span class=\"sitestr\">techcrunch.com</span></a>)</span></td></tr>,\n",
       " <tr class=\"athing\" id=\"17060343\">\n",
       "       <td align=\"right\" class=\"title\" valign=\"top\"><span class=\"rank\">25.</span></td>      <td class=\"votelinks\" valign=\"top\"><center><a href=\"vote?id=17060343&amp;how=up&amp;goto=news\" id=\"up_17060343\"><div class=\"votearrow\" title=\"upvote\"></div></a></center></td><td class=\"title\"><a class=\"storylink\" href=\"https://www.theguardian.com/money/2018/may/07/pool-basement-wealth-super-rich-digging-down-london\">How the super-rich are digging down in London</a><span class=\"sitebit comhead\"> (<a href=\"from?site=theguardian.com\"><span class=\"sitestr\">theguardian.com</span></a>)</span></td></tr>,\n",
       " <tr class=\"athing\" id=\"17058311\">\n",
       "       <td align=\"right\" class=\"title\" valign=\"top\"><span class=\"rank\">26.</span></td>      <td class=\"votelinks\" valign=\"top\"><center><a href=\"vote?id=17058311&amp;how=up&amp;goto=news\" id=\"up_17058311\"><div class=\"votearrow\" title=\"upvote\"></div></a></center></td><td class=\"title\"><a class=\"storylink\" href=\"https://krasimir.gitbooks.io/react-in-patterns/content/\">React in Patterns</a><span class=\"sitebit comhead\"> (<a href=\"from?site=gitbooks.io\"><span class=\"sitestr\">gitbooks.io</span></a>)</span></td></tr>,\n",
       " <tr class=\"athing\" id=\"17060034\">\n",
       "       <td align=\"right\" class=\"title\" valign=\"top\"><span class=\"rank\">27.</span></td>      <td class=\"votelinks\" valign=\"top\"><center><a href=\"vote?id=17060034&amp;how=up&amp;goto=news\" id=\"up_17060034\"><div class=\"votearrow\" title=\"upvote\"></div></a></center></td><td class=\"title\"><a class=\"storylink\" href=\"http://www.businessinsider.com/robinhood-crypto-stock-trading-new-funding-valuation-2018-5\">Stock-trading app Robinhood was rejected by 75 investors</a><span class=\"sitebit comhead\"> (<a href=\"from?site=businessinsider.com\"><span class=\"sitestr\">businessinsider.com</span></a>)</span></td></tr>,\n",
       " <tr class=\"athing\" id=\"17061454\">\n",
       "       <td align=\"right\" class=\"title\" valign=\"top\"><span class=\"rank\">28.</span></td>      <td></td><td class=\"title\"><a class=\"storylink\" href=\"item?id=17061454\">Work in Harajuku and transform the way the world shops $100k – $180k</a></td></tr>,\n",
       " <tr class=\"athing\" id=\"17057566\">\n",
       "       <td align=\"right\" class=\"title\" valign=\"top\"><span class=\"rank\">29.</span></td>      <td class=\"votelinks\" valign=\"top\"><center><a href=\"vote?id=17057566&amp;how=up&amp;goto=news\" id=\"up_17057566\"><div class=\"votearrow\" title=\"upvote\"></div></a></center></td><td class=\"title\"><a class=\"storylink\" href=\"http://unicode.org/reports/tr18/\">Unicode Regular Expressions</a><span class=\"sitebit comhead\"> (<a href=\"from?site=unicode.org\"><span class=\"sitestr\">unicode.org</span></a>)</span></td></tr>,\n",
       " <tr class=\"athing\" id=\"17057158\">\n",
       "       <td align=\"right\" class=\"title\" valign=\"top\"><span class=\"rank\">30.</span></td>      <td class=\"votelinks\" valign=\"top\"><center><a href=\"vote?id=17057158&amp;how=up&amp;goto=news\" id=\"up_17057158\"><div class=\"votearrow\" title=\"upvote\"></div></a></center></td><td class=\"title\"><a class=\"storylink\" href=\"https://www.atlasobscura.com/articles/what-is-a-saturation-diver\">The Weird, Dangerous, Isolated Life of the Saturation Diver</a><span class=\"sitebit comhead\"> (<a href=\"from?site=atlasobscura.com\"><span class=\"sitestr\">atlasobscura.com</span></a>)</span></td></tr>]"
      ]
     },
     "execution_count": 68,
     "metadata": {},
     "output_type": "execute_result"
    }
   ],
   "source": [
    "# Find all course summaries\n",
    "summaries = soup.find_all(\"tr\", class_=\"athing\")\n",
    "summaries\n"
   ]
  },
  {
   "cell_type": "code",
   "execution_count": 70,
   "metadata": {},
   "outputs": [
    {
     "data": {
      "text/plain": [
       "'How to start a Go project in 2018'"
      ]
     },
     "execution_count": 70,
     "metadata": {},
     "output_type": "execute_result"
    }
   ],
   "source": [
    "# Extract title\n",
    "summaries[0].find(\"a\", class_=\"storylink\").get_text().strip()"
   ]
  },
  {
   "cell_type": "code",
   "execution_count": 71,
   "metadata": {},
   "outputs": [
    {
     "name": "stdout",
     "output_type": "stream",
     "text": [
      "30 Article summaries found. Sample:\n",
      "How to start a Go project in 2018\n"
     ]
    }
   ],
   "source": [
    "# Find all articles, extract titles\n",
    "articles = []\n",
    "summaries = soup.find_all(\"tr\", class_=\"athing\")\n",
    "for summary in summaries:\n",
    "    title = summary.find(\"a\", class_=\"storylink\").get_text().strip()\n",
    "    articles.append((title))\n",
    "\n",
    "print(len(articles), \"Article summaries found. Sample:\")\n",
    "print(articles[0])"
   ]
  },
  {
   "cell_type": "markdown",
   "metadata": {
    "collapsed": true
   },
   "source": [
    "## Normalization"
   ]
  },
  {
   "cell_type": "markdown",
   "metadata": {},
   "source": [
    "### Case Normalization"
   ]
  },
  {
   "cell_type": "code",
   "execution_count": null,
   "metadata": {},
   "outputs": [
    {
     "name": "stdout",
     "output_type": "stream",
     "text": [
      "[nltk_data] Downloading package averaged_perceptron_tagger to\n",
      "[nltk_data]     /home/chengyu/nltk_data...\n",
      "[nltk_data]   Package averaged_perceptron_tagger is already up-to-\n",
      "[nltk_data]       date!\n",
      "[nltk_data] Downloading package maxent_ne_chunker to\n",
      "[nltk_data]     /home/chengyu/nltk_data...\n",
      "[nltk_data]   Package maxent_ne_chunker is already up-to-date!\n",
      "[nltk_data] Downloading package maxent_treebank_pos_tagger to\n",
      "[nltk_data]     /home/chengyu/nltk_data...\n",
      "[nltk_data]   Package maxent_treebank_pos_tagger is already up-to-\n",
      "[nltk_data]       date!\n",
      "[nltk_data] Downloading package maxent_treebank_pos_tagger to\n",
      "[nltk_data]     /home/chengyu/nltk_data...\n",
      "[nltk_data]   Package maxent_treebank_pos_tagger is already up-to-\n",
      "[nltk_data]       date!\n",
      "showing info https://raw.githubusercontent.com/nltk/nltk_data/gh-pages/index.xml\n"
     ]
    }
   ],
   "source": [
    "import nltk\n",
    "nltk.download('averaged_perceptron_tagger')\n",
    "nltk.download('maxent_ne_chunker')\n",
    "nltk.download('maxent_treebank_pos_tagger')\n",
    "nltk.download('maxent_treebank_pos_tagger')\n",
    "nltk.download()"
   ]
  },
  {
   "cell_type": "code",
   "execution_count": 72,
   "metadata": {},
   "outputs": [
    {
     "name": "stdout",
     "output_type": "stream",
     "text": [
      "The first time you see The Second Renaissance it may look boring. Look at it at least twice and definitely watch part 2. It will change your view of the matrix. Are the human people the ones who started the war ? Is AI a bad thing ?\n"
     ]
    }
   ],
   "source": [
    "# Sample text\n",
    "text = \"The first time you see The Second Renaissance it may look boring. Look at it at least twice and definitely watch part 2. It will change your view of the matrix. Are the human people the ones who started the war ? Is AI a bad thing ?\"\n",
    "print(text)"
   ]
  },
  {
   "cell_type": "code",
   "execution_count": 73,
   "metadata": {},
   "outputs": [
    {
     "name": "stdout",
     "output_type": "stream",
     "text": [
      "the first time you see the second renaissance it may look boring. look at it at least twice and definitely watch part 2. it will change your view of the matrix. are the human people the ones who started the war ? is ai a bad thing ?\n"
     ]
    }
   ],
   "source": [
    "# Convert to lowercase\n",
    "text = text.lower() \n",
    "print(text)"
   ]
  },
  {
   "cell_type": "markdown",
   "metadata": {},
   "source": [
    "### Punctuation Removal"
   ]
  },
  {
   "cell_type": "code",
   "execution_count": 74,
   "metadata": {},
   "outputs": [
    {
     "name": "stdout",
     "output_type": "stream",
     "text": [
      "the first time you see the second renaissance it may look boring  look at it at least twice and definitely watch part 2  it will change your view of the matrix  are the human people the ones who started the war   is ai a bad thing  \n"
     ]
    }
   ],
   "source": [
    "import re\n",
    "\n",
    "# Remove punctuation characters\n",
    "text = re.sub(r\"[^a-zA-Z0-9]\", \" \", text) \n",
    "print(text)"
   ]
  },
  {
   "cell_type": "markdown",
   "metadata": {},
   "source": [
    "## Tokenization"
   ]
  },
  {
   "cell_type": "code",
   "execution_count": 75,
   "metadata": {},
   "outputs": [
    {
     "name": "stdout",
     "output_type": "stream",
     "text": [
      "['the', 'first', 'time', 'you', 'see', 'the', 'second', 'renaissance', 'it', 'may', 'look', 'boring', 'look', 'at', 'it', 'at', 'least', 'twice', 'and', 'definitely', 'watch', 'part', '2', 'it', 'will', 'change', 'your', 'view', 'of', 'the', 'matrix', 'are', 'the', 'human', 'people', 'the', 'ones', 'who', 'started', 'the', 'war', 'is', 'ai', 'a', 'bad', 'thing']\n"
     ]
    }
   ],
   "source": [
    "# Split text into tokens (words)\n",
    "words = text.split()\n",
    "print(words)"
   ]
  },
  {
   "cell_type": "markdown",
   "metadata": {},
   "source": [
    "### NLTK: Natural Language ToolKit"
   ]
  },
  {
   "cell_type": "code",
   "execution_count": 98,
   "metadata": {},
   "outputs": [
    {
     "name": "stdout",
     "output_type": "stream",
     "text": [
      "Dr. Smith graduated from the University of Washington. He later started an analytics firm called Lux, which catered to enterprise customers.\n"
     ]
    }
   ],
   "source": [
    "# Another sample text\n",
    "text = \"Dr. Smith graduated from the University of Washington. He later started an analytics firm called Lux, which catered to enterprise customers.\"\n",
    "print(text)"
   ]
  },
  {
   "cell_type": "code",
   "execution_count": 99,
   "metadata": {},
   "outputs": [
    {
     "name": "stdout",
     "output_type": "stream",
     "text": [
      "['Dr.', 'Smith', 'graduated', 'from', 'the', 'University', 'of', 'Washington', '.', 'He', 'later', 'started', 'an', 'analytics', 'firm', 'called', 'Lux', ',', 'which', 'catered', 'to', 'enterprise', 'customers', '.']\n"
     ]
    }
   ],
   "source": [
    "from nltk.tokenize import word_tokenize\n",
    "\n",
    "# Split text into words using NLTK\n",
    "words = word_tokenize(text)\n",
    "print(words)"
   ]
  },
  {
   "cell_type": "code",
   "execution_count": 100,
   "metadata": {},
   "outputs": [
    {
     "name": "stdout",
     "output_type": "stream",
     "text": [
      "['Dr. Smith graduated from the University of Washington.', 'He later started an analytics firm called Lux, which catered to enterprise customers.']\n"
     ]
    }
   ],
   "source": [
    "from nltk.tokenize import sent_tokenize\n",
    "\n",
    "# Split text into sentences\n",
    "sentences = sent_tokenize(text)\n",
    "print(sentences)"
   ]
  },
  {
   "cell_type": "code",
   "execution_count": 101,
   "metadata": {},
   "outputs": [
    {
     "name": "stdout",
     "output_type": "stream",
     "text": [
      "['i', 'me', 'my', 'myself', 'we', 'our', 'ours', 'ourselves', 'you', \"you're\", \"you've\", \"you'll\", \"you'd\", 'your', 'yours', 'yourself', 'yourselves', 'he', 'him', 'his', 'himself', 'she', \"she's\", 'her', 'hers', 'herself', 'it', \"it's\", 'its', 'itself', 'they', 'them', 'their', 'theirs', 'themselves', 'what', 'which', 'who', 'whom', 'this', 'that', \"that'll\", 'these', 'those', 'am', 'is', 'are', 'was', 'were', 'be', 'been', 'being', 'have', 'has', 'had', 'having', 'do', 'does', 'did', 'doing', 'a', 'an', 'the', 'and', 'but', 'if', 'or', 'because', 'as', 'until', 'while', 'of', 'at', 'by', 'for', 'with', 'about', 'against', 'between', 'into', 'through', 'during', 'before', 'after', 'above', 'below', 'to', 'from', 'up', 'down', 'in', 'out', 'on', 'off', 'over', 'under', 'again', 'further', 'then', 'once', 'here', 'there', 'when', 'where', 'why', 'how', 'all', 'any', 'both', 'each', 'few', 'more', 'most', 'other', 'some', 'such', 'no', 'nor', 'not', 'only', 'own', 'same', 'so', 'than', 'too', 'very', 's', 't', 'can', 'will', 'just', 'don', \"don't\", 'should', \"should've\", 'now', 'd', 'll', 'm', 'o', 're', 've', 'y', 'ain', 'aren', \"aren't\", 'couldn', \"couldn't\", 'didn', \"didn't\", 'doesn', \"doesn't\", 'hadn', \"hadn't\", 'hasn', \"hasn't\", 'haven', \"haven't\", 'isn', \"isn't\", 'ma', 'mightn', \"mightn't\", 'mustn', \"mustn't\", 'needn', \"needn't\", 'shan', \"shan't\", 'shouldn', \"shouldn't\", 'wasn', \"wasn't\", 'weren', \"weren't\", 'won', \"won't\", 'wouldn', \"wouldn't\"]\n"
     ]
    }
   ],
   "source": [
    "# List stop words\n",
    "from nltk.corpus import stopwords\n",
    "print(stopwords.words(\"english\"))"
   ]
  },
  {
   "cell_type": "code",
   "execution_count": 102,
   "metadata": {},
   "outputs": [
    {
     "name": "stdout",
     "output_type": "stream",
     "text": [
      "['the', 'first', 'time', 'you', 'see', 'the', 'second', 'renaissance', 'it', 'may', 'look', 'boring', 'look', 'at', 'it', 'at', 'least', 'twice', 'and', 'definitely', 'watch', 'part', '2', 'it', 'will', 'change', 'your', 'view', 'of', 'the', 'matrix', 'are', 'the', 'human', 'people', 'the', 'ones', 'who', 'started', 'the', 'war', 'is', 'ai', 'a', 'bad', 'thing']\n"
     ]
    }
   ],
   "source": [
    "# Reset text\n",
    "text = \"The first time you see The Second Renaissance it may look boring. Look at it at least twice and definitely watch part 2. It will change your view of the matrix. Are the human people the ones who started the war ? Is AI a bad thing ?\"\n",
    "\n",
    "# Normalize it\n",
    "text = re.sub(r\"[^a-zA-Z0-9]\", \" \", text.lower())\n",
    "\n",
    "# Tokenize it\n",
    "words = text.split()\n",
    "print(words)"
   ]
  },
  {
   "cell_type": "code",
   "execution_count": 103,
   "metadata": {},
   "outputs": [
    {
     "name": "stdout",
     "output_type": "stream",
     "text": [
      "['first', 'time', 'see', 'second', 'renaissance', 'may', 'look', 'boring', 'look', 'least', 'twice', 'definitely', 'watch', 'part', '2', 'change', 'view', 'matrix', 'human', 'people', 'ones', 'started', 'war', 'ai', 'bad', 'thing']\n"
     ]
    }
   ],
   "source": [
    "# Remove stop words\n",
    "words = [w for w in words if w not in stopwords.words(\"english\")]\n",
    "print(words)"
   ]
  },
  {
   "cell_type": "markdown",
   "metadata": {},
   "source": [
    "## Part-of-Speech Tagging"
   ]
  },
  {
   "cell_type": "code",
   "execution_count": 104,
   "metadata": {},
   "outputs": [
    {
     "data": {
      "text/plain": [
       "[('I', 'PRP'),\n",
       " ('always', 'RB'),\n",
       " ('lie', 'VBP'),\n",
       " ('down', 'RP'),\n",
       " ('to', 'TO'),\n",
       " ('tell', 'VB'),\n",
       " ('a', 'DT'),\n",
       " ('lie', 'NN'),\n",
       " ('.', '.')]"
      ]
     },
     "execution_count": 104,
     "metadata": {},
     "output_type": "execute_result"
    }
   ],
   "source": [
    "from nltk import pos_tag\n",
    "\n",
    "# Tag parts of speech (PoS)\n",
    "sentence = word_tokenize(\"I always lie down to tell a lie.\")\n",
    "pos_tag(sentence)"
   ]
  },
  {
   "cell_type": "markdown",
   "metadata": {},
   "source": [
    "### Sentence Parsing"
   ]
  },
  {
   "cell_type": "code",
   "execution_count": 105,
   "metadata": {},
   "outputs": [
    {
     "name": "stdout",
     "output_type": "stream",
     "text": [
      "(S\n",
      "  (NP I)\n",
      "  (VP\n",
      "    (VP (V shot) (NP (Det an) (N elephant)))\n",
      "    (PP (P in) (NP (Det my) (N pajamas)))))\n",
      "(S\n",
      "  (NP I)\n",
      "  (VP\n",
      "    (V shot)\n",
      "    (NP (Det an) (N elephant) (PP (P in) (NP (Det my) (N pajamas))))))\n"
     ]
    }
   ],
   "source": [
    "import nltk\n",
    "\n",
    "# Define a custom grammar\n",
    "my_grammar = nltk.CFG.fromstring(\"\"\"\n",
    "S -> NP VP\n",
    "PP -> P NP\n",
    "NP -> Det N | Det N PP | 'I'\n",
    "VP -> V NP | VP PP\n",
    "Det -> 'an' | 'my'\n",
    "N -> 'elephant' | 'pajamas'\n",
    "V -> 'shot'\n",
    "P -> 'in'\n",
    "\"\"\")\n",
    "parser = nltk.ChartParser(my_grammar)\n",
    "\n",
    "# Parse a sentence\n",
    "sentence = word_tokenize(\"I shot an elephant in my pajamas\")\n",
    "for tree in parser.parse(sentence):\n",
    "    print(tree)"
   ]
  },
  {
   "cell_type": "code",
   "execution_count": 106,
   "metadata": {},
   "outputs": [
    {
     "data": {
      "image/png": "[encoded data removed]",
      "text/plain": [
       "Tree('S', [Tree('NP', ['I']), Tree('VP', [Tree('VP', [Tree('V', ['shot']), Tree('NP', [Tree('Det', ['an']), Tree('N', ['elephant'])])]), Tree('PP', [Tree('P', ['in']), Tree('NP', [Tree('Det', ['my']), Tree('N', ['pajamas'])])])])])"
      ]
     },
     "metadata": {},
     "output_type": "display_data"
    },
    {
     "data": {
      "image/png": "[encoded data removed]",
      "text/plain": [
       "Tree('S', [Tree('NP', ['I']), Tree('VP', [Tree('V', ['shot']), Tree('NP', [Tree('Det', ['an']), Tree('N', ['elephant']), Tree('PP', [Tree('P', ['in']), Tree('NP', [Tree('Det', ['my']), Tree('N', ['pajamas'])])])])])])"
      ]
     },
     "metadata": {},
     "output_type": "display_data"
    }
   ],
   "source": [
    "import IPython  # for displaying parse trees inline\n",
    "\n",
    "# Visualize parse trees\n",
    "for tree in parser.parse(sentence):\n",
    "    IPython.display.display(tree)  # instead of tree.draw()"
   ]
  },
  {
   "cell_type": "code",
   "execution_count": 107,
   "metadata": {},
   "outputs": [
    {
     "data": {
      "image/png": "[encoded data removed]",
      "text/plain": [
       "Tree('S', [Tree('PERSON', [('Antonio', 'NNP')]), ('joined', 'VBD'), Tree('ORGANIZATION', [('Udacity', 'NNP'), ('Inc.', 'NNP')]), ('in', 'IN'), Tree('GPE', [('California', 'NNP')]), ('.', '.')])"
      ]
     },
     "metadata": {},
     "output_type": "display_data"
    }
   ],
   "source": [
    "from nltk import pos_tag, ne_chunk\n",
    "from nltk.tokenize import word_tokenize\n",
    "\n",
    "# Recognize named entities in a tagged sentence\n",
    "tree = ne_chunk(pos_tag(word_tokenize(\"Antonio joined Udacity Inc. in California.\")))\n",
    "IPython.display.display(tree)"
   ]
  },
  {
   "cell_type": "markdown",
   "metadata": {},
   "source": [
    "## Stemming & Lemmatization\n",
    "\n",
    "### Stemming"
   ]
  },
  {
   "cell_type": "code",
   "execution_count": 108,
   "metadata": {},
   "outputs": [
    {
     "name": "stdout",
     "output_type": "stream",
     "text": [
      "['first', 'time', 'see', 'second', 'renaiss', 'may', 'look', 'bore', 'look', 'least', 'twice', 'definit', 'watch', 'part', '2', 'chang', 'view', 'matrix', 'human', 'peopl', 'one', 'start', 'war', 'ai', 'bad', 'thing']\n"
     ]
    }
   ],
   "source": [
    "from nltk.stem.porter import PorterStemmer\n",
    "\n",
    "# Reduce words to their stems\n",
    "stemmed = [PorterStemmer().stem(w) for w in words]\n",
    "print(stemmed)"
   ]
  },
  {
   "cell_type": "markdown",
   "metadata": {},
   "source": [
    "### Lemmatization"
   ]
  },
  {
   "cell_type": "code",
   "execution_count": 109,
   "metadata": {},
   "outputs": [
    {
     "name": "stdout",
     "output_type": "stream",
     "text": [
      "['first', 'time', 'see', 'second', 'renaissance', 'may', 'look', 'boring', 'look', 'least', 'twice', 'definitely', 'watch', 'part', '2', 'change', 'view', 'matrix', 'human', 'people', 'one', 'started', 'war', 'ai', 'bad', 'thing']\n"
     ]
    }
   ],
   "source": [
    "from nltk.stem.wordnet import WordNetLemmatizer\n",
    "\n",
    "# Reduce words to their root form\n",
    "lemmed = [WordNetLemmatizer().lemmatize(w) for w in words]\n",
    "print(lemmed)"
   ]
  },
  {
   "cell_type": "code",
   "execution_count": 110,
   "metadata": {},
   "outputs": [
    {
     "name": "stdout",
     "output_type": "stream",
     "text": [
      "['first', 'time', 'see', 'second', 'renaissance', 'may', 'look', 'bore', 'look', 'least', 'twice', 'definitely', 'watch', 'part', '2', 'change', 'view', 'matrix', 'human', 'people', 'one', 'start', 'war', 'ai', 'bad', 'thing']\n"
     ]
    }
   ],
   "source": [
    "# Lemmatize verbs by specifying pos\n",
    "lemmed = [WordNetLemmatizer().lemmatize(w, pos='v') for w in lemmed]\n",
    "print(lemmed)"
   ]
  },
  {
   "cell_type": "code",
   "execution_count": null,
   "metadata": {
    "collapsed": true
   },
   "outputs": [],
   "source": []
  }
 ],
 "metadata": {
  "kernelspec": {
   "display_name": "Python 3",
   "language": "python",
   "name": "python3"
  },
  "language_info": {
   "codemirror_mode": {
    "name": "ipython",
    "version": 3
   },
   "file_extension": ".py",
   "mimetype": "text/x-python",
   "name": "python",
   "nbconvert_exporter": "python",
   "pygments_lexer": "ipython3",
   "version": "3.5.4"
  }
 },
 "nbformat": 4,
 "nbformat_minor": 2
}
