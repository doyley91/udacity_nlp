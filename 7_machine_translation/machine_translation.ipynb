{
 "cells": [
  {
   "cell_type": "markdown",
   "metadata": {
    "collapsed": true
   },
   "source": [
    "# Artificial Intelligence Nanodegree\n",
    "## Machine Translation Project\n",
    "In this notebook, sections that end with **'(IMPLEMENTATION)'** in the header indicate that the following blocks of code will require additional functionality which you must provide. Please be sure to read the instructions carefully!\n",
    "\n",
    "## Introduction\n",
    "In this notebook, you will build a deep neural network that functions as part of an end-to-end machine translation pipeline. Your completed pipeline will accept English text as input and return the French translation.\n",
    "\n",
    "- **Preprocess** - You'll convert text to sequence of integers.\n",
    "- **Models** Create models which accepts a sequence of integers as input and returns a probability distribution over possible translations. After learning about the basic types of neural networks that are often used for machine translation, you will engage in your own investigations, to design your own model!\n",
    "- **Prediction** Run the model on English text."
   ]
  },
  {
   "cell_type": "code",
   "execution_count": 1,
   "metadata": {},
   "outputs": [],
   "source": [
    "%load_ext autoreload\n",
    "%aimport helper, tests\n",
    "%autoreload 1"
   ]
  },
  {
   "cell_type": "code",
   "execution_count": 2,
   "metadata": {},
   "outputs": [
    {
     "name": "stderr",
     "output_type": "stream",
     "text": [
      "Using TensorFlow backend.\n"
     ]
    }
   ],
   "source": [
    "import collections\n",
    "\n",
    "import helper\n",
    "import numpy as np\n",
    "import project_tests as tests\n",
    "\n",
    "from keras.preprocessing.text import Tokenizer\n",
    "from keras.preprocessing.sequence import pad_sequences\n",
    "from keras.models import Model\n",
    "from keras.layers import GRU, Input, Dense, TimeDistributed, Activation, RepeatVector, Bidirectional\n",
    "from keras.layers.embeddings import Embedding\n",
    "from keras.optimizers import Adam\n",
    "from keras.losses import sparse_categorical_crossentropy"
   ]
  },
  {
   "cell_type": "markdown",
   "metadata": {},
   "source": [
    "### Verify access to the GPU\n",
    "The following test applies only if you expect to be using a GPU, e.g., while running in a Udacity Workspace or using an AWS instance with GPU support. Run the next cell, and verify that the device_type is \"GPU\".\n",
    "- If the device is not GPU & you are running from a Udacity Workspace, then save your workspace with the icon at the top, then click \"enable\" at the bottom of the workspace.\n",
    "- If the device is not GPU & you are running from an AWS instance, then refer to the cloud computing instructions in the classroom to verify your setup steps."
   ]
  },
  {
   "cell_type": "code",
   "execution_count": 3,
   "metadata": {},
   "outputs": [
    {
     "name": "stdout",
     "output_type": "stream",
     "text": [
      "[name: \"/cpu:0\"\n",
      "device_type: \"CPU\"\n",
      "memory_limit: 268435456\n",
      "locality {\n",
      "}\n",
      "incarnation: 5058489479304101390\n",
      ", name: \"/gpu:0\"\n",
      "device_type: \"GPU\"\n",
      "memory_limit: 357302272\n",
      "locality {\n",
      "  bus_id: 1\n",
      "}\n",
      "incarnation: 2767108724658713501\n",
      "physical_device_desc: \"device: 0, name: Tesla K80, pci bus id: 0000:00:04.0\"\n",
      "]\n"
     ]
    }
   ],
   "source": [
    "from tensorflow.python.client import device_lib\n",
    "print(device_lib.list_local_devices())"
   ]
  },
  {
   "cell_type": "markdown",
   "metadata": {},
   "source": [
    "## Dataset\n",
    "We begin by investigating the dataset that will be used to train and evaluate your pipeline.  The most common datasets used for machine translation are from [WMT](http://www.statmt.org/).  However, that will take a long time to train a neural network on.  We'll be using a dataset we created for this project that contains a small vocabulary.  You'll be able to train your model in a reasonable time with this dataset.\n",
    "### Load Data\n",
    "The data is located in `data/small_vocab_en` and `data/small_vocab_fr`. The `small_vocab_en` file contains English sentences with their French translations in the `small_vocab_fr` file. Load the English and French data from these files from running the cell below."
   ]
  },
  {
   "cell_type": "code",
   "execution_count": 4,
   "metadata": {},
   "outputs": [
    {
     "name": "stdout",
     "output_type": "stream",
     "text": [
      "Dataset Loaded\n"
     ]
    }
   ],
   "source": [
    "# Load English data\n",
    "english_sentences = helper.load_data('data/small_vocab_en')\n",
    "# Load French data\n",
    "french_sentences = helper.load_data('data/small_vocab_fr')\n",
    "\n",
    "print('Dataset Loaded')"
   ]
  },
  {
   "cell_type": "markdown",
   "metadata": {},
   "source": [
    "### Files\n",
    "Each line in `small_vocab_en` contains an English sentence with the respective translation in each line of `small_vocab_fr`.  View the first two lines from each file."
   ]
  },
  {
   "cell_type": "code",
   "execution_count": 5,
   "metadata": {},
   "outputs": [
    {
     "name": "stdout",
     "output_type": "stream",
     "text": [
      "small_vocab_en Line 1:  new jersey is sometimes quiet during autumn , and it is snowy in april .\n",
      "small_vocab_fr Line 1:  new jersey est parfois calme pendant l' automne , et il est neigeux en avril .\n",
      "small_vocab_en Line 2:  the united states is usually chilly during july , and it is usually freezing in november .\n",
      "small_vocab_fr Line 2:  les états-unis est généralement froid en juillet , et il gèle habituellement en novembre .\n"
     ]
    }
   ],
   "source": [
    "for sample_i in range(2):\n",
    "    print('small_vocab_en Line {}:  {}'.format(sample_i + 1, english_sentences[sample_i]))\n",
    "    print('small_vocab_fr Line {}:  {}'.format(sample_i + 1, french_sentences[sample_i]))"
   ]
  },
  {
   "cell_type": "markdown",
   "metadata": {},
   "source": [
    "From looking at the sentences, you can see they have been preprocessed already.  The puncuations have been delimited using spaces. All the text have been converted to lowercase.  This should save you some time, but the text requires more preprocessing.\n",
    "### Vocabulary\n",
    "The complexity of the problem is determined by the complexity of the vocabulary.  A more complex vocabulary is a more complex problem.  Let's look at the complexity of the dataset we'll be working with."
   ]
  },
  {
   "cell_type": "code",
   "execution_count": 6,
   "metadata": {},
   "outputs": [
    {
     "name": "stdout",
     "output_type": "stream",
     "text": [
      "1823250 English words.\n",
      "227 unique English words.\n",
      "10 Most common words in the English dataset:\n",
      "\"is\" \",\" \".\" \"in\" \"it\" \"during\" \"the\" \"but\" \"and\" \"sometimes\"\n",
      "\n",
      "1961295 French words.\n",
      "355 unique French words.\n",
      "10 Most common words in the French dataset:\n",
      "\"est\" \".\" \",\" \"en\" \"il\" \"les\" \"mais\" \"et\" \"la\" \"parfois\"\n"
     ]
    }
   ],
   "source": [
    "english_words_counter = collections.Counter([word for sentence in english_sentences for word in sentence.split()])\n",
    "french_words_counter = collections.Counter([word for sentence in french_sentences for word in sentence.split()])\n",
    "\n",
    "print('{} English words.'.format(len([word for sentence in english_sentences for word in sentence.split()])))\n",
    "print('{} unique English words.'.format(len(english_words_counter)))\n",
    "print('10 Most common words in the English dataset:')\n",
    "print('\"' + '\" \"'.join(list(zip(*english_words_counter.most_common(10)))[0]) + '\"')\n",
    "print()\n",
    "print('{} French words.'.format(len([word for sentence in french_sentences for word in sentence.split()])))\n",
    "print('{} unique French words.'.format(len(french_words_counter)))\n",
    "print('10 Most common words in the French dataset:')\n",
    "print('\"' + '\" \"'.join(list(zip(*french_words_counter.most_common(10)))[0]) + '\"')"
   ]
  },
  {
   "cell_type": "markdown",
   "metadata": {},
   "source": [
    "For comparison, _Alice's Adventures in Wonderland_ contains 2,766 unique words of a total of 15,500 words.\n",
    "## Preprocess\n",
    "For this project, you won't use text data as input to your model. Instead, you'll convert the text into sequences of integers using the following preprocess methods:\n",
    "1. Tokenize the words into ids\n",
    "2. Add padding to make all the sequences the same length.\n",
    "\n",
    "Time to start preprocessing the data...\n",
    "### Tokenize (IMPLEMENTATION)\n",
    "For a neural network to predict on text data, it first has to be turned into data it can understand. Text data like \"dog\" is a sequence of ASCII character encodings.  Since a neural network is a series of multiplication and addition operations, the input data needs to be number(s).\n",
    "\n",
    "We can turn each character into a number or each word into a number.  These are called character and word ids, respectively.  Character ids are used for character level models that generate text predictions for each character.  A word level model uses word ids that generate text predictions for each word.  Word level models tend to learn better, since they are lower in complexity, so we'll use those.\n",
    "\n",
    "Turn each sentence into a sequence of words ids using Keras's [`Tokenizer`](https://keras.io/preprocessing/text/#tokenizer) function. Use this function to tokenize `english_sentences` and `french_sentences` in the cell below.\n",
    "\n",
    "Running the cell will run `tokenize` on sample data and show output for debugging."
   ]
  },
  {
   "cell_type": "code",
   "execution_count": 7,
   "metadata": {},
   "outputs": [
    {
     "name": "stdout",
     "output_type": "stream",
     "text": [
      "{'the': 1, 'quick': 2, 'a': 3, 'brown': 4, 'fox': 5, 'jumps': 6, 'over': 7, 'lazy': 8, 'dog': 9, 'by': 10, 'jove': 11, 'my': 12, 'study': 13, 'of': 14, 'lexicography': 15, 'won': 16, 'prize': 17, 'this': 18, 'is': 19, 'short': 20, 'sentence': 21}\n",
      "\n",
      "Sequence 1 in x\n",
      "  Input:  The quick brown fox jumps over the lazy dog .\n",
      "  Output: [1, 2, 4, 5, 6, 7, 1, 8, 9]\n",
      "Sequence 2 in x\n",
      "  Input:  By Jove , my quick study of lexicography won a prize .\n",
      "  Output: [10, 11, 12, 2, 13, 14, 15, 16, 3, 17]\n",
      "Sequence 3 in x\n",
      "  Input:  This is a short sentence .\n",
      "  Output: [18, 19, 3, 20, 21]\n"
     ]
    }
   ],
   "source": [
    "def tokenize(x):\n",
    "    \"\"\"\n",
    "    Tokenize x\n",
    "    :param x: List of sentences/strings to be tokenized\n",
    "    :return: Tuple of (tokenized x data, tokenizer used to tokenize x)\n",
    "    \"\"\"\n",
    "    # TODO: Implement\n",
    "    \n",
    "    x_tk =  Tokenizer(char_level=False)\n",
    "    x_tk.fit_on_texts(x)\n",
    "   \n",
    "    return x_tk.texts_to_sequences(x), x_tk\n",
    "\n",
    "tests.test_tokenize(tokenize)\n",
    "\n",
    "# Tokenize Example output\n",
    "text_sentences = [\n",
    "    'The quick brown fox jumps over the lazy dog .',\n",
    "    'By Jove , my quick study of lexicography won a prize .',\n",
    "    'This is a short sentence .']\n",
    "text_tokenized, text_tokenizer = tokenize(text_sentences)\n",
    "print(text_tokenizer.word_index)\n",
    "print()\n",
    "for sample_i, (sent, token_sent) in enumerate(zip(text_sentences, text_tokenized)):\n",
    "    print('Sequence {} in x'.format(sample_i + 1))\n",
    "    print('  Input:  {}'.format(sent))\n",
    "    print('  Output: {}'.format(token_sent))"
   ]
  },
  {
   "cell_type": "markdown",
   "metadata": {},
   "source": [
    "### Padding (IMPLEMENTATION)\n",
    "When batching the sequence of word ids together, each sequence needs to be the same length.  Since sentences are dynamic in length, we can add padding to the end of the sequences to make them the same length.\n",
    "\n",
    "Make sure all the English sequences have the same length and all the French sequences have the same length by adding padding to the **end** of each sequence using Keras's [`pad_sequences`](https://keras.io/preprocessing/sequence/#pad_sequences) function."
   ]
  },
  {
   "cell_type": "code",
   "execution_count": 8,
   "metadata": {},
   "outputs": [
    {
     "name": "stdout",
     "output_type": "stream",
     "text": [
      "Sequence 1 in x\n",
      "  Input:  [1 2 4 5 6 7 1 8 9]\n",
      "  Output: [1 2 4 5 6 7 1 8 9 0]\n",
      "Sequence 2 in x\n",
      "  Input:  [10 11 12  2 13 14 15 16  3 17]\n",
      "  Output: [10 11 12  2 13 14 15 16  3 17]\n",
      "Sequence 3 in x\n",
      "  Input:  [18 19  3 20 21]\n",
      "  Output: [18 19  3 20 21  0  0  0  0  0]\n"
     ]
    }
   ],
   "source": [
    "def pad(x, length=None):\n",
    "    \"\"\"\n",
    "    Pad x\n",
    "    :param x: List of sequences.\n",
    "    :param length: Length to pad the sequence to.  If None, use length of longest sequence in x.\n",
    "    :return: Padded numpy array of sequences\n",
    "    \"\"\"\n",
    "    # TODO: Implement\n",
    "    \n",
    "    if length is None:\n",
    "        length = max([len(sentence) for sentence in x])\n",
    "    return pad_sequences(x, maxlen=length, padding='post')\n",
    "    \n",
    "    \n",
    "    return None\n",
    "tests.test_pad(pad)\n",
    "\n",
    "# Pad Tokenized output\n",
    "test_pad = pad(text_tokenized)\n",
    "for sample_i, (token_sent, pad_sent) in enumerate(zip(text_tokenized, test_pad)):\n",
    "    print('Sequence {} in x'.format(sample_i + 1))\n",
    "    print('  Input:  {}'.format(np.array(token_sent)))\n",
    "    print('  Output: {}'.format(pad_sent))"
   ]
  },
  {
   "cell_type": "markdown",
   "metadata": {},
   "source": [
    "### Preprocess Pipeline\n",
    "Your focus for this project is to build neural network architecture, so we won't ask you to create a preprocess pipeline.  Instead, we've provided you with the implementation of the `preprocess` function."
   ]
  },
  {
   "cell_type": "code",
   "execution_count": 9,
   "metadata": {},
   "outputs": [
    {
     "name": "stdout",
     "output_type": "stream",
     "text": [
      "Data Preprocessed\n",
      "Max English sentence length: 15\n",
      "Max French sentence length: 21\n",
      "English vocabulary size: 199\n",
      "French vocabulary size: 344\n"
     ]
    }
   ],
   "source": [
    "def preprocess(x, y):\n",
    "    \"\"\"\n",
    "    Preprocess x and y\n",
    "    :param x: Feature List of sentences\n",
    "    :param y: Label List of sentences\n",
    "    :return: Tuple of (Preprocessed x, Preprocessed y, x tokenizer, y tokenizer)\n",
    "    \"\"\"\n",
    "    preprocess_x, x_tk = tokenize(x)\n",
    "    preprocess_y, y_tk = tokenize(y)\n",
    "\n",
    "    preprocess_x = pad(preprocess_x)\n",
    "    preprocess_y = pad(preprocess_y)\n",
    "\n",
    "    # Keras's sparse_categorical_crossentropy function requires the labels to be in 3 dimensions\n",
    "    preprocess_y = preprocess_y.reshape(*preprocess_y.shape, 1)\n",
    "\n",
    "    return preprocess_x, preprocess_y, x_tk, y_tk\n",
    "\n",
    "preproc_english_sentences, preproc_french_sentences, english_tokenizer, french_tokenizer =\\\n",
    "    preprocess(english_sentences, french_sentences)\n",
    "    \n",
    "max_english_sequence_length = preproc_english_sentences.shape[1]\n",
    "max_french_sequence_length = preproc_french_sentences.shape[1]\n",
    "english_vocab_size = len(english_tokenizer.word_index)\n",
    "french_vocab_size = len(french_tokenizer.word_index)\n",
    "\n",
    "print('Data Preprocessed')\n",
    "print(\"Max English sentence length:\", max_english_sequence_length)\n",
    "print(\"Max French sentence length:\", max_french_sequence_length)\n",
    "print(\"English vocabulary size:\", english_vocab_size)\n",
    "print(\"French vocabulary size:\", french_vocab_size)"
   ]
  },
  {
   "cell_type": "markdown",
   "metadata": {},
   "source": [
    "## Models\n",
    "In this section, you will experiment with various neural network architectures.\n",
    "You will begin by training four relatively simple architectures.\n",
    "- Model 1 is a simple RNN\n",
    "- Model 2 is a RNN with Embedding\n",
    "- Model 3 is a Bidirectional RNN\n",
    "- Model 4 is an optional Encoder-Decoder RNN\n",
    "\n",
    "After experimenting with the four simple architectures, you will construct a deeper architecture that is designed to outperform all four models.\n",
    "### Ids Back to Text\n",
    "The neural network will be translating the input to words ids, which isn't the final form we want.  We want the French translation.  The function `logits_to_text` will bridge the gab between the logits from the neural network to the French translation.  You'll be using this function to better understand the output of the neural network."
   ]
  },
  {
   "cell_type": "code",
   "execution_count": 10,
   "metadata": {},
   "outputs": [
    {
     "name": "stdout",
     "output_type": "stream",
     "text": [
      "`logits_to_text` function loaded.\n"
     ]
    }
   ],
   "source": [
    "def logits_to_text(logits, tokenizer):\n",
    "    \"\"\"\n",
    "    Turn logits from a neural network into text using the tokenizer\n",
    "    :param logits: Logits from a neural network\n",
    "    :param tokenizer: Keras Tokenizer fit on the labels\n",
    "    :return: String that represents the text of the logits\n",
    "    \"\"\"\n",
    "    index_to_words = {id: word for word, id in tokenizer.word_index.items()}\n",
    "    index_to_words[0] = '<PAD>'\n",
    "\n",
    "    return ' '.join([index_to_words[prediction] for prediction in np.argmax(logits, 1)])\n",
    "\n",
    "print('`logits_to_text` function loaded.')"
   ]
  },
  {
   "cell_type": "markdown",
   "metadata": {},
   "source": [
    "### Model 1: RNN (IMPLEMENTATION)\n",
    "![RNN](images/rnn.png)\n",
    "A basic RNN model is a good baseline for sequence data.  In this model, you'll build a RNN that translates English to French."
   ]
  },
  {
   "cell_type": "code",
   "execution_count": 11,
   "metadata": {},
   "outputs": [],
   "source": [
    "from keras.models import Model, Sequential"
   ]
  },
  {
   "cell_type": "code",
   "execution_count": 12,
   "metadata": {},
   "outputs": [
    {
     "name": "stdout",
     "output_type": "stream",
     "text": [
      "**summary**\n",
      "_________________________________________________________________\n",
      "Layer (type)                 Output Shape              Param #   \n",
      "=================================================================\n",
      "input_1 (InputLayer)         (None, 21, 1)             0         \n",
      "_________________________________________________________________\n",
      "gru_1 (GRU)                  (None, 21, 128)           49920     \n",
      "_________________________________________________________________\n",
      "time_distributed_1 (TimeDist (None, 21, 344)           44376     \n",
      "_________________________________________________________________\n",
      "activation_1 (Activation)    (None, 21, 344)           0         \n",
      "=================================================================\n",
      "Total params: 94,296\n",
      "Trainable params: 94,296\n",
      "Non-trainable params: 0\n",
      "_________________________________________________________________\n",
      "**summary**\n",
      "_________________________________________________________________\n",
      "Layer (type)                 Output Shape              Param #   \n",
      "=================================================================\n",
      "input_2 (InputLayer)         (None, 21, 1)             0         \n",
      "_________________________________________________________________\n",
      "gru_2 (GRU)                  (None, 21, 128)           49920     \n",
      "_________________________________________________________________\n",
      "time_distributed_2 (TimeDist (None, 21, 344)           44376     \n",
      "_________________________________________________________________\n",
      "activation_2 (Activation)    (None, 21, 344)           0         \n",
      "=================================================================\n",
      "Total params: 94,296\n",
      "Trainable params: 94,296\n",
      "Non-trainable params: 0\n",
      "_________________________________________________________________\n",
      "Train on 110288 samples, validate on 27573 samples\n",
      "Epoch 1/10\n",
      "110288/110288 [==============================] - 10s 87us/step - loss: 2.9616 - acc: 0.4449 - val_loss: nan - val_acc: 0.4884\n",
      "Epoch 2/10\n",
      "110288/110288 [==============================] - 7s 67us/step - loss: 2.0012 - acc: 0.5394 - val_loss: nan - val_acc: 0.5669\n",
      "Epoch 3/10\n",
      "110288/110288 [==============================] - 7s 67us/step - loss: 1.6795 - acc: 0.5788 - val_loss: nan - val_acc: 0.5961\n",
      "Epoch 4/10\n",
      "110288/110288 [==============================] - 7s 67us/step - loss: 1.5403 - acc: 0.6048 - val_loss: nan - val_acc: 0.6109\n",
      "Epoch 5/10\n",
      "110288/110288 [==============================] - 7s 67us/step - loss: 1.4466 - acc: 0.6167 - val_loss: nan - val_acc: 0.6249\n",
      "Epoch 6/10\n",
      "110288/110288 [==============================] - 7s 68us/step - loss: 1.3687 - acc: 0.6295 - val_loss: nan - val_acc: 0.6346\n",
      "Epoch 7/10\n",
      "110288/110288 [==============================] - 7s 68us/step - loss: 1.3033 - acc: 0.6401 - val_loss: nan - val_acc: 0.6446\n",
      "Epoch 8/10\n",
      "110288/110288 [==============================] - 7s 68us/step - loss: 1.2502 - acc: 0.6491 - val_loss: nan - val_acc: 0.6526\n",
      "Epoch 9/10\n",
      "110288/110288 [==============================] - 7s 68us/step - loss: 1.2045 - acc: 0.6566 - val_loss: nan - val_acc: 0.6575\n",
      "Epoch 10/10\n",
      "110288/110288 [==============================] - 7s 68us/step - loss: 1.1676 - acc: 0.6606 - val_loss: nan - val_acc: 0.6605\n",
      "new jersey est parfois calme en l' et il est est en en <PAD> <PAD> <PAD> <PAD> <PAD> <PAD> <PAD> <PAD>\n"
     ]
    }
   ],
   "source": [
    "def simple_model(input_shape, output_sequence_length, english_vocab_size, french_vocab_size):\n",
    "    \"\"\"\n",
    "    Build and train a basic RNN on x and y\n",
    "    :param input_shape: Tuple of input shape\n",
    "    :param output_sequence_length: Length of output sequence\n",
    "    :param english_vocab_size: Number of unique English words in the dataset\n",
    "    :param french_vocab_size: Number of unique French words in the dataset\n",
    "    :return: Keras model built, but not trained\n",
    "    \"\"\"\n",
    "    # TODO: Build the layers\n",
    "    model = Sequential()\n",
    "    learning_rate=0.001\n",
    "    input_seq = Input(input_shape[1:])\n",
    "    rnn = GRU(128, return_sequences=True)(input_seq)\n",
    "    logits = TimeDistributed(Dense(french_vocab_size))(rnn)\n",
    "    model = Model(input_seq, Activation('softmax')(logits))\n",
    "    \n",
    "    print('**summary**')\n",
    "    model.summary()\n",
    "    \n",
    "    model.compile(loss=sparse_categorical_crossentropy,\n",
    "                  optimizer=Adam(learning_rate),\n",
    "                  metrics=['accuracy'])\n",
    "    \n",
    "\n",
    "    \n",
    "    return model\n",
    "\n",
    "tests.test_simple_model(simple_model)\n",
    "\n",
    "# Reshaping the input to work with a basic RNN\n",
    "tmp_x = pad(preproc_english_sentences, max_french_sequence_length)\n",
    "tmp_x = tmp_x.reshape((-1, preproc_french_sentences.shape[-2], 1))\n",
    "\n",
    "# Train the neural network\n",
    "simple_rnn_model = simple_model(\n",
    "    tmp_x.shape,\n",
    "    max_french_sequence_length,\n",
    "    english_vocab_size,\n",
    "    french_vocab_size)\n",
    "simple_rnn_model.fit(tmp_x, preproc_french_sentences, batch_size=1024, epochs=10, validation_split=0.2)\n",
    "\n",
    "# Print prediction(s)\n",
    "print(logits_to_text(simple_rnn_model.predict(tmp_x[:1])[0], french_tokenizer))"
   ]
  },
  {
   "cell_type": "markdown",
   "metadata": {},
   "source": [
    "### Model 2: Embedding (IMPLEMENTATION)\n",
    "![RNN](images/embedding.png)\n",
    "You've turned the words into ids, but there's a better representation of a word.  This is called word embeddings.  An embedding is a vector representation of the word that is close to similar words in n-dimensional space, where the n represents the size of the embedding vectors.\n",
    "\n",
    "In this model, you'll create a RNN model using embedding."
   ]
  },
  {
   "cell_type": "code",
   "execution_count": 16,
   "metadata": {},
   "outputs": [
    {
     "name": "stdout",
     "output_type": "stream",
     "text": [
      "**summary**\n",
      "_________________________________________________________________\n",
      "Layer (type)                 Output Shape              Param #   \n",
      "=================================================================\n",
      "embedding_4 (Embedding)      (None, 21, 64)            22016     \n",
      "_________________________________________________________________\n",
      "gru_6 (GRU)                  (None, 21, 64)            24768     \n",
      "_________________________________________________________________\n",
      "time_distributed_6 (TimeDist (None, 21, 344)           22360     \n",
      "=================================================================\n",
      "Total params: 69,144\n",
      "Trainable params: 69,144\n",
      "Non-trainable params: 0\n",
      "_________________________________________________________________\n",
      "**summary**\n",
      "_________________________________________________________________\n",
      "Layer (type)                 Output Shape              Param #   \n",
      "=================================================================\n",
      "embedding_5 (Embedding)      (None, 21, 64)            22016     \n",
      "_________________________________________________________________\n",
      "gru_7 (GRU)                  (None, 21, 64)            24768     \n",
      "_________________________________________________________________\n",
      "time_distributed_7 (TimeDist (None, 21, 344)           22360     \n",
      "=================================================================\n",
      "Total params: 69,144\n",
      "Trainable params: 69,144\n",
      "Non-trainable params: 0\n",
      "_________________________________________________________________\n",
      "Train on 110288 samples, validate on 27573 samples\n",
      "Epoch 1/10\n",
      "110288/110288 [==============================] - 8s 73us/step - loss: 3.8122 - acc: 0.4007 - val_loss: nan - val_acc: 0.4093\n",
      "Epoch 2/10\n",
      "110288/110288 [==============================] - 7s 65us/step - loss: 2.6934 - acc: 0.4418 - val_loss: nan - val_acc: 0.5137\n",
      "Epoch 3/10\n",
      "110288/110288 [==============================] - 7s 66us/step - loss: 1.9329 - acc: 0.5592 - val_loss: nan - val_acc: 0.6129\n",
      "Epoch 4/10\n",
      "110288/110288 [==============================] - 7s 66us/step - loss: 1.4773 - acc: 0.6417 - val_loss: nan - val_acc: 0.6886\n",
      "Epoch 5/10\n",
      "110288/110288 [==============================] - 7s 66us/step - loss: 1.1746 - acc: 0.7076 - val_loss: nan - val_acc: 0.7403\n",
      "Epoch 6/10\n",
      "110288/110288 [==============================] - 7s 67us/step - loss: 0.9827 - acc: 0.7489 - val_loss: nan - val_acc: 0.7734\n",
      "Epoch 7/10\n",
      "110288/110288 [==============================] - 7s 66us/step - loss: 0.8515 - acc: 0.7761 - val_loss: nan - val_acc: 0.7980\n",
      "Epoch 8/10\n",
      "110288/110288 [==============================] - 7s 66us/step - loss: 0.7565 - acc: 0.7956 - val_loss: nan - val_acc: 0.8140\n",
      "Epoch 9/10\n",
      "110288/110288 [==============================] - 7s 66us/step - loss: 0.6844 - acc: 0.8101 - val_loss: nan - val_acc: 0.8278\n",
      "Epoch 10/10\n",
      "110288/110288 [==============================] - 7s 66us/step - loss: 0.6308 - acc: 0.8215 - val_loss: nan - val_acc: 0.8365\n",
      "new jersey est parfois calme en l' et il est neigeux en avril avril <PAD> <PAD> <PAD> <PAD> <PAD> <PAD> <PAD>\n"
     ]
    }
   ],
   "source": [
    "def embed_model(input_shape, output_sequence_length, english_vocab_size, french_vocab_size,learning_rate=0.001):\n",
    "    \"\"\"\n",
    "    Build and train a RNN model using word embedding on x and y\n",
    "    :param input_shape: Tuple of input shape\n",
    "    :param output_sequence_length: Length of output sequence\n",
    "    :param english_vocab_size: Number of unique English words in the dataset\n",
    "    :param french_vocab_size: Number of unique French words in the dataset\n",
    "    :return: Keras model built, but not trained\n",
    "    \"\"\"\n",
    "    # TODO: Implement\n",
    "    model = Sequential()\n",
    "    emd = Embedding(french_vocab_size, 64, input_length=input_shape[1]) \n",
    "    model.add(emd)\n",
    "    rnn = GRU(64, return_sequences=True, dropout= 0.2, activation=\"tanh\")\n",
    "    model.add(rnn)\n",
    "    logits = TimeDistributed(Dense(french_vocab_size, activation=\"softmax\"))\n",
    "    model.add(logits)\n",
    "    print('**summary**')\n",
    "    model.summary()\n",
    "    \n",
    "    model.compile(loss=sparse_categorical_crossentropy,\n",
    "              optimizer=Adam(learning_rate),\n",
    "              metrics=['accuracy'])\n",
    "\n",
    "    return model\n",
    "tests.test_embed_model(embed_model)\n",
    "\n",
    "\n",
    "# TODO: Reshape the input\n",
    "tmp_x = pad(preproc_english_sentences, max_french_sequence_length)\n",
    "tmp_x = tmp_x.reshape((-1, preproc_french_sentences.shape[-2]))\n",
    "\n",
    "# TODO: Train the neural network\n",
    "embed_model = embed_model(\n",
    "    tmp_x.shape,\n",
    "    max_french_sequence_length,\n",
    "    english_vocab_size,\n",
    "    french_vocab_size)\n",
    "\n",
    "embed_model.fit(tmp_x, preproc_french_sentences, batch_size=1024, epochs=10, validation_split=0.2)\n",
    "\n",
    "# TODO: Print prediction(s)\n",
    "print(logits_to_text(embed_model.predict(tmp_x[:1])[0], french_tokenizer))"
   ]
  },
  {
   "cell_type": "markdown",
   "metadata": {},
   "source": [
    "### Model 3: Bidirectional RNNs (IMPLEMENTATION)\n",
    "![RNN](images/bidirectional.png)\n",
    "One restriction of a RNN is that it can't see the future input, only the past.  This is where bidirectional recurrent neural networks come in.  They are able to see the future data."
   ]
  },
  {
   "cell_type": "code",
   "execution_count": 39,
   "metadata": {
    "scrolled": true
   },
   "outputs": [
    {
     "name": "stdout",
     "output_type": "stream",
     "text": [
      "shape:  (21, 1)\n",
      "**summary**\n",
      "_________________________________________________________________\n",
      "Layer (type)                 Output Shape              Param #   \n",
      "=================================================================\n",
      "bidirectional_26 (Bidirectio (None, 21, 256)           99840     \n",
      "_________________________________________________________________\n",
      "time_distributed_27 (TimeDis (None, 21, 344)           88408     \n",
      "=================================================================\n",
      "Total params: 188,248\n",
      "Trainable params: 188,248\n",
      "Non-trainable params: 0\n",
      "_________________________________________________________________\n",
      "shape:  (21, 1)\n",
      "**summary**\n",
      "_________________________________________________________________\n",
      "Layer (type)                 Output Shape              Param #   \n",
      "=================================================================\n",
      "bidirectional_27 (Bidirectio (None, 21, 256)           99840     \n",
      "_________________________________________________________________\n",
      "time_distributed_28 (TimeDis (None, 21, 344)           88408     \n",
      "=================================================================\n",
      "Total params: 188,248\n",
      "Trainable params: 188,248\n",
      "Non-trainable params: 0\n",
      "_________________________________________________________________\n",
      "Train on 110288 samples, validate on 27573 samples\n",
      "Epoch 1/10\n",
      "110288/110288 [==============================] - 13s 122us/step - loss: 1.6730 - acc: 0.5949 - val_loss: nan - val_acc: 0.6319\n",
      "Epoch 2/10\n",
      "110288/110288 [==============================] - 11s 104us/step - loss: 1.1304 - acc: 0.6664 - val_loss: nan - val_acc: 0.6157\n",
      "Epoch 3/10\n",
      "110288/110288 [==============================] - 11s 104us/step - loss: 1.0197 - acc: 0.6843 - val_loss: nan - val_acc: 0.5839\n",
      "Epoch 4/10\n",
      "110288/110288 [==============================] - 12s 104us/step - loss: 1.0293 - acc: 0.6813 - val_loss: nan - val_acc: 0.6099\n",
      "Epoch 5/10\n",
      "110288/110288 [==============================] - 11s 103us/step - loss: 0.9457 - acc: 0.6958 - val_loss: nan - val_acc: 0.6050\n",
      "Epoch 6/10\n",
      "110288/110288 [==============================] - 11s 103us/step - loss: 0.9150 - acc: 0.7006 - val_loss: nan - val_acc: 0.5977\n",
      "Epoch 7/10\n",
      "110288/110288 [==============================] - 11s 103us/step - loss: 0.8895 - acc: 0.7050 - val_loss: nan - val_acc: 0.5929\n",
      "Epoch 8/10\n",
      "110288/110288 [==============================] - 11s 103us/step - loss: 0.8650 - acc: 0.7101 - val_loss: nan - val_acc: 0.5827\n",
      "Epoch 9/10\n",
      "110288/110288 [==============================] - 11s 103us/step - loss: 0.8523 - acc: 0.7127 - val_loss: nan - val_acc: 0.5890\n",
      "Epoch 10/10\n",
      "110288/110288 [==============================] - 11s 103us/step - loss: 0.8332 - acc: 0.7175 - val_loss: nan - val_acc: 0.5784\n"
     ]
    }
   ],
   "source": [
    "def bd_model(input_shape, output_sequence_length, english_vocab_size, french_vocab_size,learning_rate=0.01):\n",
    "    \"\"\"\n",
    "    Build and train a bidirectional RNN model on x and y\n",
    "    :param input_shape: Tuple of input shape\n",
    "    :param output_sequence_length: Length of output sequence\n",
    "    :param english_vocab_size: Number of unique English words in the dataset\n",
    "    :param french_vocab_size: Number of unique French words in the dataset\n",
    "    :return: Keras model built, but not trained\n",
    "    \"\"\"\n",
    "    # TODO: Implement\n",
    "    print(\"shape: \", input_shape[1:])\n",
    "    \n",
    "    model = Sequential()\n",
    "    model.add(Bidirectional(GRU(128, return_sequences=True, dropout=0.1),\n",
    "                        input_shape=input_shape[1:]))\n",
    "    \n",
    "    model.add(TimeDistributed(Dense(french_vocab_size, activation='softmax') ))\n",
    "    \n",
    "    print('**summary**')\n",
    "    model.summary()\n",
    "    \n",
    "    model.compile(loss=sparse_categorical_crossentropy,\n",
    "                  optimizer=Adam(learning_rate),\n",
    "                  metrics=['accuracy'])\n",
    "    \n",
    "    return model\n",
    "tests.test_bd_model(bd_model)\n",
    "\n",
    "\n",
    "# TODO: Train and Print prediction(s)\n",
    "# TODO: Reshape the input\n",
    "tmp_x = pad(preproc_english_sentences, max_french_sequence_length)\n",
    "tmp_x = tmp_x.reshape((-1, preproc_french_sentences.shape[-2], 1))\n",
    "\n",
    "# TODO: Train the neural network\n",
    "bd_rnn_model = bd_model(\n",
    "    tmp_x.shape,\n",
    "    max_french_sequence_length,\n",
    "    english_vocab_size,\n",
    "    french_vocab_size)\n",
    "\n",
    "#save model\n",
    "if os.path.exists(os.path.join(\"cache\", \"bd_model.h5\"))== False:\n",
    "    bd_rnn_model.fit(tmp_x, preproc_french_sentences, batch_size=1024, epochs=10, validation_split=0.2)\n",
    "else:\n",
    "    bd_rnn_model = load_model(os.path.join(\"cache\", \"bd_model.h5\"))\n",
    "    \n"
   ]
  },
  {
   "cell_type": "code",
   "execution_count": 41,
   "metadata": {},
   "outputs": [],
   "source": [
    "# Save model, so that it can quickly load it in future (and perhaps resume training)\n",
    "if os.path.exists(os.path.join(\"cache\", \"bd_model.h5\"))== False:\n",
    "    bd_rnn_model.save(os.path.join(\"cache\", \"bd_model.h5\"))"
   ]
  },
  {
   "cell_type": "code",
   "execution_count": 42,
   "metadata": {},
   "outputs": [
    {
     "name": "stdout",
     "output_type": "stream",
     "text": [
      "new jersey est parfois occupé pendant printemps et il est agréable en <PAD> <PAD> <PAD> <PAD> <PAD> <PAD> <PAD> <PAD> <PAD>\n"
     ]
    }
   ],
   "source": [
    "# TODO: Print prediction(s)\n",
    "print(logits_to_text(bd_rnn_model.predict(tmp_x[:1])[0], french_tokenizer))"
   ]
  },
  {
   "cell_type": "markdown",
   "metadata": {},
   "source": [
    "### Model 4: Encoder-Decoder (OPTIONAL)\n",
    "Time to look at encoder-decoder models.  This model is made up of an encoder and decoder. The encoder creates a matrix representation of the sentence.  The decoder takes this matrix as input and predicts the translation as output.\n",
    "\n",
    "Create an encoder-decoder model in the cell below."
   ]
  },
  {
   "cell_type": "code",
   "execution_count": 43,
   "metadata": {},
   "outputs": [
    {
     "name": "stdout",
     "output_type": "stream",
     "text": [
      "(137861, 21, 1)\n",
      "(137861, 21, 1)\n",
      "(137861, 15)\n",
      "(137861, 15)\n"
     ]
    }
   ],
   "source": [
    "print(preproc_french_sentences.shape)\n",
    "print(preproc_french_sentences.shape)\n",
    "print(preproc_english_sentences.shape)\n",
    "print(preproc_english_sentences.shape)"
   ]
  },
  {
   "cell_type": "code",
   "execution_count": 45,
   "metadata": {},
   "outputs": [
    {
     "name": "stdout",
     "output_type": "stream",
     "text": [
      "**summary**\n",
      "_________________________________________________________________\n",
      "Layer (type)                 Output Shape              Param #   \n",
      "=================================================================\n",
      "gru_38 (GRU)                 (None, 128)               49920     \n",
      "_________________________________________________________________\n",
      "repeat_vector_2 (RepeatVecto (None, 21, 128)           0         \n",
      "_________________________________________________________________\n",
      "gru_39 (GRU)                 (None, 21, 128)           98688     \n",
      "_________________________________________________________________\n",
      "time_distributed_30 (TimeDis (None, 21, 344)           44376     \n",
      "=================================================================\n",
      "Total params: 192,984\n",
      "Trainable params: 192,984\n",
      "Non-trainable params: 0\n",
      "_________________________________________________________________\n"
     ]
    }
   ],
   "source": [
    "def encdec_model(input_shape, output_sequence_length, english_vocab_size, french_vocab_size,learning_rate=0.01):\n",
    "    \"\"\"\n",
    "    Build and train an encoder-decoder model on x and y\n",
    "    :param input_shape: Tuple of input shape\n",
    "    :param output_sequence_length: Length of output sequence\n",
    "    :param english_vocab_size: Number of unique English words in the dataset\n",
    "    :param french_vocab_size: Number of unique French words in the dataset\n",
    "    :return: Keras model built, but not trained\n",
    "    \"\"\"\n",
    "    # OPTIONAL: Implement\n",
    "    model = Sequential()\n",
    "    #encoder\n",
    "    model.add(GRU(128, input_shape=input_shape[1:], return_sequences=False) )\n",
    "    model.add(RepeatVector(output_sequence_length))\n",
    "    #decoder\n",
    "    #model.add(GRU(output_sequence_length, return_sequences=True) )\n",
    "    model.add(GRU(128, return_sequences=True) )\n",
    "    #output\n",
    "    model.add(TimeDistributed(Dense(french_vocab_size, activation='softmax') ))\n",
    "    \n",
    "    print('**summary**')\n",
    "    model.summary()\n",
    "    \n",
    "    model.compile(loss=sparse_categorical_crossentropy,\n",
    "                  optimizer=Adam(learning_rate),\n",
    "                  metrics=['accuracy'])\n",
    "    return model\n",
    "\n",
    "tests.test_encdec_model(encdec_model)\n",
    "\n",
    "\n"
   ]
  },
  {
   "cell_type": "code",
   "execution_count": 53,
   "metadata": {
    "scrolled": true
   },
   "outputs": [
    {
     "name": "stdout",
     "output_type": "stream",
     "text": [
      "(137861, 15)\n",
      "(137861, 15, 1)\n",
      "**summary**\n",
      "_________________________________________________________________\n",
      "Layer (type)                 Output Shape              Param #   \n",
      "=================================================================\n",
      "gru_40 (GRU)                 (None, 128)               49920     \n",
      "_________________________________________________________________\n",
      "repeat_vector_3 (RepeatVecto (None, 21, 128)           0         \n",
      "_________________________________________________________________\n",
      "gru_41 (GRU)                 (None, 21, 128)           98688     \n",
      "_________________________________________________________________\n",
      "time_distributed_31 (TimeDis (None, 21, 345)           44505     \n",
      "=================================================================\n",
      "Total params: 193,113\n",
      "Trainable params: 193,113\n",
      "Non-trainable params: 0\n",
      "_________________________________________________________________\n",
      "train\n",
      "Train on 110288 samples, validate on 27573 samples\n",
      "Epoch 1/20\n",
      "110288/110288 [==============================] - 12s 113us/step - loss: 2.5316 - acc: 0.4665 - val_loss: 1.8788 - val_acc: 0.5442\n",
      "Epoch 2/20\n",
      "110288/110288 [==============================] - 11s 97us/step - loss: 1.7261 - acc: 0.5620 - val_loss: 1.5887 - val_acc: 0.5861\n",
      "Epoch 3/20\n",
      "110288/110288 [==============================] - 11s 97us/step - loss: 1.5196 - acc: 0.5930 - val_loss: 1.4407 - val_acc: 0.6051\n",
      "Epoch 4/20\n",
      "110288/110288 [==============================] - 11s 98us/step - loss: 1.4139 - acc: 0.6102 - val_loss: 1.3640 - val_acc: 0.6228\n",
      "Epoch 5/20\n",
      "110288/110288 [==============================] - 11s 97us/step - loss: 1.3567 - acc: 0.6214 - val_loss: 1.3140 - val_acc: 0.6333\n",
      "Epoch 6/20\n",
      "110288/110288 [==============================] - 11s 98us/step - loss: 1.3176 - acc: 0.6312 - val_loss: 1.3418 - val_acc: 0.6314\n",
      "Epoch 7/20\n",
      "110288/110288 [==============================] - 11s 98us/step - loss: 1.3155 - acc: 0.6321 - val_loss: 1.2619 - val_acc: 0.6471\n",
      "Epoch 8/20\n",
      "110288/110288 [==============================] - 11s 99us/step - loss: 1.2551 - acc: 0.6439 - val_loss: 1.2994 - val_acc: 0.6313\n",
      "Epoch 9/20\n",
      "110288/110288 [==============================] - 11s 99us/step - loss: 1.2196 - acc: 0.6492 - val_loss: 1.1619 - val_acc: 0.6616\n",
      "Epoch 10/20\n",
      "110288/110288 [==============================] - 11s 99us/step - loss: 1.2223 - acc: 0.6460 - val_loss: 1.2087 - val_acc: 0.6461\n",
      "Epoch 11/20\n",
      "110288/110288 [==============================] - 11s 99us/step - loss: 1.2120 - acc: 0.6478 - val_loss: 1.1493 - val_acc: 0.6645\n",
      "Epoch 12/20\n",
      "110288/110288 [==============================] - 11s 98us/step - loss: 1.1846 - acc: 0.6536 - val_loss: 1.1705 - val_acc: 0.6532\n",
      "Epoch 13/20\n",
      "110288/110288 [==============================] - 11s 97us/step - loss: 1.1504 - acc: 0.6607 - val_loss: 1.1131 - val_acc: 0.6687\n",
      "Epoch 14/20\n",
      "110288/110288 [==============================] - 11s 98us/step - loss: 1.1391 - acc: 0.6628 - val_loss: 1.1938 - val_acc: 0.6486\n",
      "Epoch 15/20\n",
      "110288/110288 [==============================] - 11s 98us/step - loss: 1.1681 - acc: 0.6553 - val_loss: 1.3533 - val_acc: 0.6217\n",
      "Epoch 16/20\n",
      "110288/110288 [==============================] - 11s 98us/step - loss: 1.1370 - acc: 0.6630 - val_loss: 1.1962 - val_acc: 0.6510\n",
      "Epoch 17/20\n",
      "110288/110288 [==============================] - 11s 99us/step - loss: 1.1319 - acc: 0.6623 - val_loss: 1.0991 - val_acc: 0.6688\n",
      "Epoch 18/20\n",
      "110288/110288 [==============================] - 11s 98us/step - loss: 1.1509 - acc: 0.6581 - val_loss: 1.1148 - val_acc: 0.6639\n",
      "Epoch 19/20\n",
      "110288/110288 [==============================] - 11s 98us/step - loss: 1.2038 - acc: 0.6450 - val_loss: 1.1411 - val_acc: 0.6613\n",
      "Epoch 20/20\n",
      "110288/110288 [==============================] - 11s 98us/step - loss: 1.1600 - acc: 0.6517 - val_loss: 1.1421 - val_acc: 0.6564\n"
     ]
    }
   ],
   "source": [
    "\n",
    "# OPTIONAL: Train and Print prediction(s)\n",
    "tmp_x = pad(preproc_english_sentences)\n",
    "print(tmp_x.shape)\n",
    "tmp_x = tmp_x.reshape((-1, preproc_english_sentences.shape[1], 1))\n",
    "print(tmp_x.shape)\n",
    "\n",
    "# Train the neural network\n",
    "encdec_rnn_model = encdec_model(\n",
    "    tmp_x.shape,\n",
    "    preproc_french_sentences.shape[1],\n",
    "    len(english_tokenizer.word_index)+1,\n",
    "    len(french_tokenizer.word_index)+1)\n",
    "\n",
    "if os.path.exists(os.path.join(\"cache\", \"encdec_model.h5\"))== False:\n",
    "    print(\"train\")\n",
    "    encdec_rnn_model.fit(tmp_x, preproc_french_sentences, batch_size=1024, epochs=20, validation_split=0.2)\n",
    "else:\n",
    "    print(\"load\")\n",
    "    encdec_rnn_model = load_model(os.path.join(\"cache\", \"encdec_model.h5\"))"
   ]
  },
  {
   "cell_type": "code",
   "execution_count": 54,
   "metadata": {},
   "outputs": [],
   "source": [
    "# Save model, so that it can quickly load it in future (and perhaps resume training)\n",
    "if os.path.exists(os.path.join(\"cache\", \"encdec_model.h5\"))== False:\n",
    "    encdec_rnn_model.save(os.path.join(\"cache\", \"encdec_model.h5\"))"
   ]
  },
  {
   "cell_type": "code",
   "execution_count": 55,
   "metadata": {},
   "outputs": [
    {
     "name": "stdout",
     "output_type": "stream",
     "text": [
      "new jersey est parfois agréable en l' et il est est en en <PAD> <PAD> <PAD> <PAD> <PAD> <PAD> <PAD> <PAD>\n"
     ]
    }
   ],
   "source": [
    "# Print prediction(s)# Print  \n",
    "print(logits_to_text(encdec_rnn_model.predict(tmp_x[:1])[0], french_tokenizer))"
   ]
  },
  {
   "cell_type": "code",
   "execution_count": 57,
   "metadata": {},
   "outputs": [
    {
     "name": "stdout",
     "output_type": "stream",
     "text": [
      "Train accurancy:  0.656209999129\n"
     ]
    }
   ],
   "source": [
    "#print score#print s \n",
    "score = encdec_rnn_model.evaluate(tmp_x, preproc_french_sentences, verbose=0)\n",
    "print(\"Train accurancy: \", score[1])"
   ]
  },
  {
   "cell_type": "markdown",
   "metadata": {},
   "source": [
    "### Model 5: Custom (IMPLEMENTATION)\n",
    "Use everything you learned from the previous models to create a model that incorporates embedding and a bidirectional rnn into one model."
   ]
  },
  {
   "cell_type": "code",
   "execution_count": 59,
   "metadata": {},
   "outputs": [
    {
     "name": "stdout",
     "output_type": "stream",
     "text": [
      "**summary**\n",
      "_________________________________________________________________\n",
      "Layer (type)                 Output Shape              Param #   \n",
      "=================================================================\n",
      "embedding_13 (Embedding)     (None, 15, 128)           44032     \n",
      "_________________________________________________________________\n",
      "bidirectional_30 (Bidirectio (None, 256)               197376    \n",
      "_________________________________________________________________\n",
      "repeat_vector_5 (RepeatVecto (None, 21, 256)           0         \n",
      "_________________________________________________________________\n",
      "bidirectional_31 (Bidirectio (None, 21, 256)           295680    \n",
      "_________________________________________________________________\n",
      "time_distributed_33 (TimeDis (None, 21, 344)           88408     \n",
      "=================================================================\n",
      "Total params: 625,496\n",
      "Trainable params: 625,496\n",
      "Non-trainable params: 0\n",
      "_________________________________________________________________\n",
      "Final Model Loaded\n"
     ]
    }
   ],
   "source": [
    "def model_final(input_shape, output_sequence_length, english_vocab_size, french_vocab_size,learning_rate=0.01):\n",
    "    \"\"\"\n",
    "    Build and train a model that incorporates embedding, encoder-decoder, and bidirectional RNN on x and y\n",
    "    :param input_shape: Tuple of input shape\n",
    "    :param output_sequence_length: Length of output sequence\n",
    "    :param english_vocab_size: Number of unique English words in the dataset\n",
    "    :param french_vocab_size: Number of unique French words in the dataset\n",
    "    :return: Keras model built, but not trained\n",
    "    \"\"\"\n",
    "    # TODO: Implement\n",
    "    vocab_size = max(english_vocab_size, french_vocab_size)\n",
    "    # OPTIONAL: Implement\n",
    "    model = Sequential()\n",
    "    model.add(Embedding(vocab_size ,128 , input_length=input_shape[1]))\n",
    "    #encoder\n",
    "    model.add(Bidirectional(GRU(128, return_sequences=False)) )\n",
    "    model.add(RepeatVector(output_sequence_length))\n",
    "    #decoder\n",
    "    model.add(Bidirectional(GRU(128, return_sequences=True)) )\n",
    "    #output\n",
    "    model.add(TimeDistributed(Dense(french_vocab_size, activation='softmax') ))\n",
    "    \n",
    "    print('**summary**')\n",
    "    model.summary()\n",
    "    \n",
    "    model.compile(loss=sparse_categorical_crossentropy,\n",
    "                  optimizer=Adam(learning_rate),\n",
    "                  metrics=['accuracy'])\n",
    "    \n",
    "    return model\n",
    "tests.test_model_final(model_final)\n",
    "\n",
    "\n",
    "print('Final Model Loaded')\n",
    "# TODO: Train the final model"
   ]
  },
  {
   "cell_type": "markdown",
   "metadata": {},
   "source": [
    "## Prediction (IMPLEMENTATION)"
   ]
  },
  {
   "cell_type": "code",
   "execution_count": 63,
   "metadata": {},
   "outputs": [
    {
     "name": "stdout",
     "output_type": "stream",
     "text": [
      "**summary**\n",
      "_________________________________________________________________\n",
      "Layer (type)                 Output Shape              Param #   \n",
      "=================================================================\n",
      "embedding_15 (Embedding)     (None, 15, 128)           44160     \n",
      "_________________________________________________________________\n",
      "bidirectional_34 (Bidirectio (None, 256)               197376    \n",
      "_________________________________________________________________\n",
      "repeat_vector_7 (RepeatVecto (None, 21, 256)           0         \n",
      "_________________________________________________________________\n",
      "bidirectional_35 (Bidirectio (None, 21, 256)           295680    \n",
      "_________________________________________________________________\n",
      "time_distributed_35 (TimeDis (None, 21, 345)           88665     \n",
      "=================================================================\n",
      "Total params: 625,881\n",
      "Trainable params: 625,881\n",
      "Non-trainable params: 0\n",
      "_________________________________________________________________\n",
      "Train on 110288 samples, validate on 27573 samples\n",
      "Epoch 1/20\n",
      "110288/110288 [==============================] - 25s 226us/step - loss: 1.9277 - acc: 0.5455 - val_loss: 1.2273 - val_acc: 0.6647\n",
      "Epoch 2/20\n",
      "110288/110288 [==============================] - 23s 205us/step - loss: 0.9683 - acc: 0.7244 - val_loss: 0.7563 - val_acc: 0.7789\n",
      "Epoch 3/20\n",
      "110288/110288 [==============================] - 23s 207us/step - loss: 0.5632 - acc: 0.8335 - val_loss: 0.4122 - val_acc: 0.8789\n",
      "Epoch 4/20\n",
      "110288/110288 [==============================] - 23s 209us/step - loss: 0.3148 - acc: 0.9087 - val_loss: 0.2455 - val_acc: 0.9305\n",
      "Epoch 5/20\n",
      "110288/110288 [==============================] - 23s 208us/step - loss: 0.2099 - acc: 0.9404 - val_loss: 0.1965 - val_acc: 0.9443\n",
      "Epoch 6/20\n",
      "110288/110288 [==============================] - 23s 208us/step - loss: 0.1823 - acc: 0.9475 - val_loss: 0.1559 - val_acc: 0.9562\n",
      "Epoch 7/20\n",
      "110288/110288 [==============================] - 23s 208us/step - loss: 0.1326 - acc: 0.9620 - val_loss: 0.1447 - val_acc: 0.9589\n",
      "Epoch 8/20\n",
      "110288/110288 [==============================] - 23s 208us/step - loss: 0.1405 - acc: 0.9589 - val_loss: 0.1526 - val_acc: 0.9554\n",
      "Epoch 9/20\n",
      "110288/110288 [==============================] - 23s 209us/step - loss: 0.1234 - acc: 0.9639 - val_loss: 0.1112 - val_acc: 0.9683\n",
      "Epoch 10/20\n",
      "110288/110288 [==============================] - 23s 208us/step - loss: 0.1015 - acc: 0.9707 - val_loss: 0.1364 - val_acc: 0.9611\n",
      "Epoch 11/20\n",
      "110288/110288 [==============================] - 23s 208us/step - loss: 0.1128 - acc: 0.9673 - val_loss: 0.1209 - val_acc: 0.9655\n",
      "Epoch 12/20\n",
      "110288/110288 [==============================] - 23s 208us/step - loss: 0.0972 - acc: 0.9716 - val_loss: 0.0990 - val_acc: 0.9719\n",
      "Epoch 13/20\n",
      "110288/110288 [==============================] - 23s 205us/step - loss: 0.1427 - acc: 0.9584 - val_loss: 0.1791 - val_acc: 0.9484\n",
      "Epoch 14/20\n",
      "110288/110288 [==============================] - 23s 205us/step - loss: 0.2260 - acc: 0.9328 - val_loss: 0.2223 - val_acc: 0.9339\n",
      "Epoch 15/20\n",
      "110288/110288 [==============================] - 23s 206us/step - loss: 0.2172 - acc: 0.9343 - val_loss: 0.2185 - val_acc: 0.9350\n",
      "Epoch 16/20\n",
      "110288/110288 [==============================] - 23s 205us/step - loss: 0.1874 - acc: 0.9436 - val_loss: 0.1603 - val_acc: 0.9516\n",
      "Epoch 17/20\n",
      "110288/110288 [==============================] - 23s 205us/step - loss: 0.1259 - acc: 0.9623 - val_loss: 0.1276 - val_acc: 0.9626\n",
      "Epoch 18/20\n",
      "110288/110288 [==============================] - 23s 205us/step - loss: 0.1318 - acc: 0.9606 - val_loss: 0.1470 - val_acc: 0.9574\n",
      "Epoch 19/20\n",
      "110288/110288 [==============================] - 23s 205us/step - loss: 0.1337 - acc: 0.9602 - val_loss: 0.1280 - val_acc: 0.9627\n",
      "Epoch 20/20\n",
      "110288/110288 [==============================] - 23s 205us/step - loss: 0.1060 - acc: 0.9681 - val_loss: 0.1134 - val_acc: 0.9668\n",
      "Train on 110288 samples, validate on 27573 samples\n",
      "Epoch 1/20\n",
      "110288/110288 [==============================] - 23s 206us/step - loss: 0.0898 - acc: 0.9732 - val_loss: 0.1130 - val_acc: 0.9675\n",
      "Epoch 2/20\n",
      "110288/110288 [==============================] - 23s 205us/step - loss: 0.0872 - acc: 0.9738 - val_loss: 0.1278 - val_acc: 0.9624\n",
      "Epoch 3/20\n",
      "110288/110288 [==============================] - 23s 205us/step - loss: 0.1331 - acc: 0.9601 - val_loss: 0.1641 - val_acc: 0.9523\n",
      "Epoch 4/20\n",
      "110288/110288 [==============================] - 23s 206us/step - loss: 0.2023 - acc: 0.9399 - val_loss: 0.1836 - val_acc: 0.9459\n",
      "Epoch 5/20\n",
      "110288/110288 [==============================] - 23s 205us/step - loss: 0.1580 - acc: 0.9528 - val_loss: 0.1489 - val_acc: 0.9564\n",
      "Epoch 6/20\n",
      "110288/110288 [==============================] - 23s 205us/step - loss: 0.1632 - acc: 0.9512 - val_loss: 0.2105 - val_acc: 0.9394\n",
      "Epoch 7/20\n",
      "110288/110288 [==============================] - 23s 205us/step - loss: 0.2095 - acc: 0.9369 - val_loss: 0.2041 - val_acc: 0.9382\n",
      "Epoch 8/20\n",
      "110288/110288 [==============================] - 23s 208us/step - loss: 0.2397 - acc: 0.9271 - val_loss: 0.3775 - val_acc: 0.8854\n",
      "Epoch 9/20\n",
      "110288/110288 [==============================] - 23s 208us/step - loss: 0.3400 - acc: 0.8965 - val_loss: 0.3509 - val_acc: 0.8928\n",
      "Epoch 10/20\n",
      "110288/110288 [==============================] - 23s 208us/step - loss: 0.2719 - acc: 0.9165 - val_loss: 0.2461 - val_acc: 0.9252\n",
      "Epoch 11/20\n",
      "110288/110288 [==============================] - 23s 208us/step - loss: 0.2877 - acc: 0.9111 - val_loss: 0.3277 - val_acc: 0.8970\n",
      "Epoch 12/20\n",
      "110288/110288 [==============================] - 23s 208us/step - loss: 0.3580 - acc: 0.8890 - val_loss: 0.4467 - val_acc: 0.8627\n",
      "Epoch 13/20\n",
      "110288/110288 [==============================] - 23s 208us/step - loss: 0.3505 - acc: 0.8911 - val_loss: 0.2703 - val_acc: 0.9165\n",
      "Epoch 14/20\n",
      "110288/110288 [==============================] - 23s 209us/step - loss: 0.2634 - acc: 0.9179 - val_loss: 0.2435 - val_acc: 0.9244\n",
      "Epoch 15/20\n",
      "110288/110288 [==============================] - 23s 208us/step - loss: 0.2376 - acc: 0.9259 - val_loss: 0.2395 - val_acc: 0.9246\n",
      "Epoch 16/20\n",
      "110288/110288 [==============================] - 23s 208us/step - loss: 0.2356 - acc: 0.9270 - val_loss: 0.2215 - val_acc: 0.9323\n",
      "Epoch 17/20\n",
      "110288/110288 [==============================] - 23s 207us/step - loss: 0.2126 - acc: 0.9346 - val_loss: 0.2091 - val_acc: 0.9362\n",
      "Epoch 18/20\n",
      "110288/110288 [==============================] - 23s 205us/step - loss: 0.2122 - acc: 0.9341 - val_loss: 0.2080 - val_acc: 0.9360\n",
      "Epoch 19/20\n",
      "110288/110288 [==============================] - 23s 204us/step - loss: 0.2029 - acc: 0.9364 - val_loss: 0.2178 - val_acc: 0.9323\n",
      "Epoch 20/20\n",
      "110288/110288 [==============================] - 23s 205us/step - loss: 0.2129 - acc: 0.9339 - val_loss: 0.2208 - val_acc: 0.9321\n",
      "Sample 1:\n",
      "il a vu un vieux camion jaune <PAD> <PAD> <PAD> <PAD> <PAD> <PAD> <PAD> <PAD> <PAD> <PAD> <PAD> <PAD> <PAD> <PAD>\n",
      "Il a vu un vieux camion jaune\n",
      "Sample 2:\n",
      "new jersey est parfois calme pendant cours de l' automne et est en en avril <PAD> <PAD> <PAD> <PAD> <PAD> <PAD>\n",
      "new jersey est parfois calme pendant l' automne et il est neigeux en avril <PAD> <PAD> <PAD> <PAD> <PAD> <PAD> <PAD>\n"
     ]
    }
   ],
   "source": [
    "def final_predictions(x, y, x_tk, y_tk):\n",
    "    \"\"\"\n",
    "    Gets predictions using the final model\n",
    "    :param x: Preprocessed English data\n",
    "    :param y: Preprocessed French data\n",
    "    :param x_tk: English tokenizer\n",
    "    :param y_tk: French tokenizer\n",
    "    \"\"\"\n",
    "    # TODO: Train neural network using model_final\n",
    "    X_input = pad(x)\n",
    "    \n",
    "    model = model_final(\n",
    "        X_input.shape,\n",
    "        y.shape[1],\n",
    "        len(x_tk.word_index)+1,\n",
    "        len(y_tk.word_index)+1)\n",
    "    \n",
    "    model.fit(X_input, y, batch_size=1024, epochs=20, validation_split=0.2)\n",
    "    \n",
    "    if os.path.exists(os.path.join(\"cache\", \"final_model.h5\"))== False:\n",
    "        model.fit(X_input, preproc_french_sentences, batch_size=1024, epochs=20, validation_split=0.2)\n",
    "    else:\n",
    "        model = load_model(os.path.join(\"cache\", \"final_model.h5\"))\n",
    "\n",
    "    # Save model, so that it can quickly load it in future (and perhaps resume training)\n",
    "    if os.path.exists(os.path.join(\"cache\", \"final_model.h5\")) == False:\n",
    "        model.save(os.path.join(\"cache\", \"final_model.h5\"))\n",
    "    \n",
    "    ## DON'T EDIT ANYTHING BELOW THIS LINE\n",
    "    y_id_to_word = {value: key for key, value in y_tk.word_index.items()}\n",
    "    y_id_to_word[0] = '<PAD>'\n",
    "\n",
    "    sentence = 'he saw a old yellow truck'\n",
    "    sentence = [x_tk.word_index[word] for word in sentence.split()]\n",
    "    sentence = pad_sequences([sentence], maxlen=x.shape[-1], padding='post')\n",
    "    sentences = np.array([sentence[0], x[0]])\n",
    "    predictions = model.predict(sentences, len(sentences))\n",
    "\n",
    "    print('Sample 1:')\n",
    "    print(' '.join([y_id_to_word[np.argmax(x)] for x in predictions[0]]))\n",
    "    print('Il a vu un vieux camion jaune')\n",
    "    print('Sample 2:')\n",
    "    print(' '.join([y_id_to_word[np.argmax(x)] for x in predictions[1]]))\n",
    "    print(' '.join([y_id_to_word[np.max(x)] for x in y[0]]))\n",
    "\n",
    "\n",
    "final_predictions(preproc_english_sentences, preproc_french_sentences, english_tokenizer, french_tokenizer)"
   ]
  },
  {
   "cell_type": "markdown",
   "metadata": {},
   "source": [
    "## Submission\n",
    "When you're ready to submit, complete the following steps:\n",
    "1. Review the [rubric](https://review.udacity.com/#!/rubrics/1004/view) to ensure your submission meets all requirements to pass\n",
    "2. Generate an HTML version of this notebook\n",
    "\n",
    "  - Run the next cell to attempt automatic generation (this is the recommended method in Workspaces)\n",
    "  - Navigate to **FILE -> Download as -> HTML (.html)**\n",
    "  - Manually generate a copy using `nbconvert` from your shell terminal\n",
    "```\n",
    "$ pip install nbconvert\n",
    "$ python -m nbconvert machine_translation.ipynb\n",
    "```\n",
    "  \n",
    "3. Submit the project\n",
    "\n",
    "  - If you are in a Workspace, simply click the \"Submit Project\" button (bottom towards the right)\n",
    "  \n",
    "  - Otherwise, add the following files into a zip archive and submit them \n",
    "  - `helper.py`\n",
    "  - `machine_translation.ipynb`\n",
    "  - `machine_translation.html`\n",
    "    - You can export the notebook by navigating to **File -> Download as -> HTML (.html)**."
   ]
  },
  {
   "cell_type": "markdown",
   "metadata": {},
   "source": [
    "### Generate the html\n",
    "\n",
    "**Save your notebook before running the next cell to generate the HTML output.** Then submit your project."
   ]
  },
  {
   "cell_type": "code",
   "execution_count": 64,
   "metadata": {},
   "outputs": [
    {
     "data": {
      "text/plain": [
       "['[NbConvertApp] Converting notebook machine_translation.ipynb to html',\n",
       " '[NbConvertApp] Writing 370059 bytes to machine_translation.html']"
      ]
     },
     "execution_count": 64,
     "metadata": {},
     "output_type": "execute_result"
    }
   ],
   "source": [
    "# Save before you run this cell!\n",
    "!!jupyter nbconvert *.ipynb"
   ]
  },
  {
   "cell_type": "markdown",
   "metadata": {},
   "source": [
    "## Optional Enhancements\n",
    "\n",
    "This project focuses on learning various network architectures for machine translation, but we don't evaluate the models according to best practices by splitting the data into separate test & training sets -- so the model accuracy is overstated. Use the [`sklearn.model_selection.train_test_split()`](http://scikit-learn.org/stable/modules/generated/sklearn.model_selection.train_test_split.html) function to create separate training & test datasets, then retrain each of the models using only the training set and evaluate the prediction accuracy using the hold out test set. Does the \"best\" model change?"
   ]
  }
 ],
 "metadata": {
  "kernelspec": {
   "display_name": "Python 3",
   "language": "python",
   "name": "python3"
  },
  "language_info": {
   "codemirror_mode": {
    "name": "ipython",
    "version": 3
   },
   "file_extension": ".py",
   "mimetype": "text/x-python",
   "name": "python",
   "nbconvert_exporter": "python",
   "pygments_lexer": "ipython3",
   "version": "3.6.3"
  }
 },
 "nbformat": 4,
 "nbformat_minor": 1
}
